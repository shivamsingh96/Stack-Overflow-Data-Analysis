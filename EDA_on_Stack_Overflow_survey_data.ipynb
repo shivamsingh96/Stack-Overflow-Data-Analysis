{
  "cells": [
    {
      "cell_type": "markdown",
      "source": [
        "## Importing the Libraries"
      ],
      "metadata": {
        "id": "l-bOc7a54tyN"
      }
    },
    {
      "cell_type": "code",
      "execution_count": 1,
      "metadata": {
        "id": "tTxq-U1E4Lu5"
      },
      "outputs": [],
      "source": [
        "import pandas as pd\n",
        "import numpy as np\n",
        "import matplotlib.pyplot as plt\n",
        "import seaborn as sns\n",
        "\n",
        "import warnings\n",
        "warnings.filterwarnings('ignore')"
      ]
    },
    {
      "cell_type": "code",
      "execution_count": 3,
      "metadata": {
        "id": "x89V5I144Lu8"
      },
      "outputs": [],
      "source": [
        "# Reading file\n",
        "\n",
        "data1 = pd.read_csv('/content/drive/MyDrive/Stack Overflow Data Analysis/survey_results_public.csv')"
      ]
    },
    {
      "cell_type": "code",
      "execution_count": 4,
      "metadata": {
        "colab": {
          "base_uri": "https://localhost:8080/",
          "height": 646
        },
        "id": "oD1Om6NA4Lu8",
        "outputId": "957eac51-f50c-4607-e8cc-7690479ab57e"
      },
      "outputs": [
        {
          "output_type": "execute_result",
          "data": {
            "text/plain": [
              "   Respondent                                         MainBranch Hobbyist  \\\n",
              "0           1             I am a student who is learning to code      Yes   \n",
              "1           2             I am a student who is learning to code       No   \n",
              "2           3  I am not primarily a developer, but I write co...      Yes   \n",
              "3           4                     I am a developer by profession       No   \n",
              "4           5                     I am a developer by profession      Yes   \n",
              "\n",
              "                  OpenSourcer  \\\n",
              "0                       Never   \n",
              "1     Less than once per year   \n",
              "2                       Never   \n",
              "3                       Never   \n",
              "4  Once a month or more often   \n",
              "\n",
              "                                          OpenSource  \\\n",
              "0  The quality of OSS and closed source software ...   \n",
              "1  The quality of OSS and closed source software ...   \n",
              "2  The quality of OSS and closed source software ...   \n",
              "3  The quality of OSS and closed source software ...   \n",
              "4  OSS is, on average, of HIGHER quality than pro...   \n",
              "\n",
              "                               Employment                 Country  \\\n",
              "0  Not employed, and not looking for work          United Kingdom   \n",
              "1      Not employed, but looking for work  Bosnia and Herzegovina   \n",
              "2                      Employed full-time                Thailand   \n",
              "3                      Employed full-time           United States   \n",
              "4                      Employed full-time                 Ukraine   \n",
              "\n",
              "          Student                                            EdLevel  \\\n",
              "0              No                          Primary/elementary school   \n",
              "1  Yes, full-time  Secondary school (e.g. American high school, G...   \n",
              "2              No           Bachelor’s degree (BA, BS, B.Eng., etc.)   \n",
              "3              No           Bachelor’s degree (BA, BS, B.Eng., etc.)   \n",
              "4              No           Bachelor’s degree (BA, BS, B.Eng., etc.)   \n",
              "\n",
              "                                      UndergradMajor  ...  \\\n",
              "0                                                NaN  ...   \n",
              "1                                                NaN  ...   \n",
              "2                      Web development or web design  ...   \n",
              "3  Computer science, computer engineering, or sof...  ...   \n",
              "4  Computer science, computer engineering, or sof...  ...   \n",
              "\n",
              "                             WelcomeChange  \\\n",
              "0  Just as welcome now as I felt last year   \n",
              "1  Just as welcome now as I felt last year   \n",
              "2  Just as welcome now as I felt last year   \n",
              "3  Just as welcome now as I felt last year   \n",
              "4  Just as welcome now as I felt last year   \n",
              "\n",
              "                                        SONewContent   Age Gender Trans  \\\n",
              "0  Tech articles written by other developers;Indu...  14.0    Man    No   \n",
              "1  Tech articles written by other developers;Indu...  19.0    Man    No   \n",
              "2  Tech meetups or events in your area;Courses on...  28.0    Man    No   \n",
              "3  Tech articles written by other developers;Indu...  22.0    Man    No   \n",
              "4  Tech meetups or events in your area;Courses on...  30.0    Man    No   \n",
              "\n",
              "                 Sexuality                                 Ethnicity  \\\n",
              "0  Straight / Heterosexual                                       NaN   \n",
              "1  Straight / Heterosexual                                       NaN   \n",
              "2  Straight / Heterosexual                                       NaN   \n",
              "3  Straight / Heterosexual              White or of European descent   \n",
              "4  Straight / Heterosexual  White or of European descent;Multiracial   \n",
              "\n",
              "  Dependents           SurveyLength                  SurveyEase  \n",
              "0         No  Appropriate in length  Neither easy nor difficult  \n",
              "1         No  Appropriate in length  Neither easy nor difficult  \n",
              "2        Yes  Appropriate in length  Neither easy nor difficult  \n",
              "3         No  Appropriate in length                        Easy  \n",
              "4         No  Appropriate in length                        Easy  \n",
              "\n",
              "[5 rows x 85 columns]"
            ],
            "text/html": [
              "\n",
              "  <div id=\"df-1e3c920b-6850-4bc1-ac63-c3f44500a563\">\n",
              "    <div class=\"colab-df-container\">\n",
              "      <div>\n",
              "<style scoped>\n",
              "    .dataframe tbody tr th:only-of-type {\n",
              "        vertical-align: middle;\n",
              "    }\n",
              "\n",
              "    .dataframe tbody tr th {\n",
              "        vertical-align: top;\n",
              "    }\n",
              "\n",
              "    .dataframe thead th {\n",
              "        text-align: right;\n",
              "    }\n",
              "</style>\n",
              "<table border=\"1\" class=\"dataframe\">\n",
              "  <thead>\n",
              "    <tr style=\"text-align: right;\">\n",
              "      <th></th>\n",
              "      <th>Respondent</th>\n",
              "      <th>MainBranch</th>\n",
              "      <th>Hobbyist</th>\n",
              "      <th>OpenSourcer</th>\n",
              "      <th>OpenSource</th>\n",
              "      <th>Employment</th>\n",
              "      <th>Country</th>\n",
              "      <th>Student</th>\n",
              "      <th>EdLevel</th>\n",
              "      <th>UndergradMajor</th>\n",
              "      <th>...</th>\n",
              "      <th>WelcomeChange</th>\n",
              "      <th>SONewContent</th>\n",
              "      <th>Age</th>\n",
              "      <th>Gender</th>\n",
              "      <th>Trans</th>\n",
              "      <th>Sexuality</th>\n",
              "      <th>Ethnicity</th>\n",
              "      <th>Dependents</th>\n",
              "      <th>SurveyLength</th>\n",
              "      <th>SurveyEase</th>\n",
              "    </tr>\n",
              "  </thead>\n",
              "  <tbody>\n",
              "    <tr>\n",
              "      <th>0</th>\n",
              "      <td>1</td>\n",
              "      <td>I am a student who is learning to code</td>\n",
              "      <td>Yes</td>\n",
              "      <td>Never</td>\n",
              "      <td>The quality of OSS and closed source software ...</td>\n",
              "      <td>Not employed, and not looking for work</td>\n",
              "      <td>United Kingdom</td>\n",
              "      <td>No</td>\n",
              "      <td>Primary/elementary school</td>\n",
              "      <td>NaN</td>\n",
              "      <td>...</td>\n",
              "      <td>Just as welcome now as I felt last year</td>\n",
              "      <td>Tech articles written by other developers;Indu...</td>\n",
              "      <td>14.0</td>\n",
              "      <td>Man</td>\n",
              "      <td>No</td>\n",
              "      <td>Straight / Heterosexual</td>\n",
              "      <td>NaN</td>\n",
              "      <td>No</td>\n",
              "      <td>Appropriate in length</td>\n",
              "      <td>Neither easy nor difficult</td>\n",
              "    </tr>\n",
              "    <tr>\n",
              "      <th>1</th>\n",
              "      <td>2</td>\n",
              "      <td>I am a student who is learning to code</td>\n",
              "      <td>No</td>\n",
              "      <td>Less than once per year</td>\n",
              "      <td>The quality of OSS and closed source software ...</td>\n",
              "      <td>Not employed, but looking for work</td>\n",
              "      <td>Bosnia and Herzegovina</td>\n",
              "      <td>Yes, full-time</td>\n",
              "      <td>Secondary school (e.g. American high school, G...</td>\n",
              "      <td>NaN</td>\n",
              "      <td>...</td>\n",
              "      <td>Just as welcome now as I felt last year</td>\n",
              "      <td>Tech articles written by other developers;Indu...</td>\n",
              "      <td>19.0</td>\n",
              "      <td>Man</td>\n",
              "      <td>No</td>\n",
              "      <td>Straight / Heterosexual</td>\n",
              "      <td>NaN</td>\n",
              "      <td>No</td>\n",
              "      <td>Appropriate in length</td>\n",
              "      <td>Neither easy nor difficult</td>\n",
              "    </tr>\n",
              "    <tr>\n",
              "      <th>2</th>\n",
              "      <td>3</td>\n",
              "      <td>I am not primarily a developer, but I write co...</td>\n",
              "      <td>Yes</td>\n",
              "      <td>Never</td>\n",
              "      <td>The quality of OSS and closed source software ...</td>\n",
              "      <td>Employed full-time</td>\n",
              "      <td>Thailand</td>\n",
              "      <td>No</td>\n",
              "      <td>Bachelor’s degree (BA, BS, B.Eng., etc.)</td>\n",
              "      <td>Web development or web design</td>\n",
              "      <td>...</td>\n",
              "      <td>Just as welcome now as I felt last year</td>\n",
              "      <td>Tech meetups or events in your area;Courses on...</td>\n",
              "      <td>28.0</td>\n",
              "      <td>Man</td>\n",
              "      <td>No</td>\n",
              "      <td>Straight / Heterosexual</td>\n",
              "      <td>NaN</td>\n",
              "      <td>Yes</td>\n",
              "      <td>Appropriate in length</td>\n",
              "      <td>Neither easy nor difficult</td>\n",
              "    </tr>\n",
              "    <tr>\n",
              "      <th>3</th>\n",
              "      <td>4</td>\n",
              "      <td>I am a developer by profession</td>\n",
              "      <td>No</td>\n",
              "      <td>Never</td>\n",
              "      <td>The quality of OSS and closed source software ...</td>\n",
              "      <td>Employed full-time</td>\n",
              "      <td>United States</td>\n",
              "      <td>No</td>\n",
              "      <td>Bachelor’s degree (BA, BS, B.Eng., etc.)</td>\n",
              "      <td>Computer science, computer engineering, or sof...</td>\n",
              "      <td>...</td>\n",
              "      <td>Just as welcome now as I felt last year</td>\n",
              "      <td>Tech articles written by other developers;Indu...</td>\n",
              "      <td>22.0</td>\n",
              "      <td>Man</td>\n",
              "      <td>No</td>\n",
              "      <td>Straight / Heterosexual</td>\n",
              "      <td>White or of European descent</td>\n",
              "      <td>No</td>\n",
              "      <td>Appropriate in length</td>\n",
              "      <td>Easy</td>\n",
              "    </tr>\n",
              "    <tr>\n",
              "      <th>4</th>\n",
              "      <td>5</td>\n",
              "      <td>I am a developer by profession</td>\n",
              "      <td>Yes</td>\n",
              "      <td>Once a month or more often</td>\n",
              "      <td>OSS is, on average, of HIGHER quality than pro...</td>\n",
              "      <td>Employed full-time</td>\n",
              "      <td>Ukraine</td>\n",
              "      <td>No</td>\n",
              "      <td>Bachelor’s degree (BA, BS, B.Eng., etc.)</td>\n",
              "      <td>Computer science, computer engineering, or sof...</td>\n",
              "      <td>...</td>\n",
              "      <td>Just as welcome now as I felt last year</td>\n",
              "      <td>Tech meetups or events in your area;Courses on...</td>\n",
              "      <td>30.0</td>\n",
              "      <td>Man</td>\n",
              "      <td>No</td>\n",
              "      <td>Straight / Heterosexual</td>\n",
              "      <td>White or of European descent;Multiracial</td>\n",
              "      <td>No</td>\n",
              "      <td>Appropriate in length</td>\n",
              "      <td>Easy</td>\n",
              "    </tr>\n",
              "  </tbody>\n",
              "</table>\n",
              "<p>5 rows × 85 columns</p>\n",
              "</div>\n",
              "      <button class=\"colab-df-convert\" onclick=\"convertToInteractive('df-1e3c920b-6850-4bc1-ac63-c3f44500a563')\"\n",
              "              title=\"Convert this dataframe to an interactive table.\"\n",
              "              style=\"display:none;\">\n",
              "        \n",
              "  <svg xmlns=\"http://www.w3.org/2000/svg\" height=\"24px\"viewBox=\"0 0 24 24\"\n",
              "       width=\"24px\">\n",
              "    <path d=\"M0 0h24v24H0V0z\" fill=\"none\"/>\n",
              "    <path d=\"M18.56 5.44l.94 2.06.94-2.06 2.06-.94-2.06-.94-.94-2.06-.94 2.06-2.06.94zm-11 1L8.5 8.5l.94-2.06 2.06-.94-2.06-.94L8.5 2.5l-.94 2.06-2.06.94zm10 10l.94 2.06.94-2.06 2.06-.94-2.06-.94-.94-2.06-.94 2.06-2.06.94z\"/><path d=\"M17.41 7.96l-1.37-1.37c-.4-.4-.92-.59-1.43-.59-.52 0-1.04.2-1.43.59L10.3 9.45l-7.72 7.72c-.78.78-.78 2.05 0 2.83L4 21.41c.39.39.9.59 1.41.59.51 0 1.02-.2 1.41-.59l7.78-7.78 2.81-2.81c.8-.78.8-2.07 0-2.86zM5.41 20L4 18.59l7.72-7.72 1.47 1.35L5.41 20z\"/>\n",
              "  </svg>\n",
              "      </button>\n",
              "      \n",
              "  <style>\n",
              "    .colab-df-container {\n",
              "      display:flex;\n",
              "      flex-wrap:wrap;\n",
              "      gap: 12px;\n",
              "    }\n",
              "\n",
              "    .colab-df-convert {\n",
              "      background-color: #E8F0FE;\n",
              "      border: none;\n",
              "      border-radius: 50%;\n",
              "      cursor: pointer;\n",
              "      display: none;\n",
              "      fill: #1967D2;\n",
              "      height: 32px;\n",
              "      padding: 0 0 0 0;\n",
              "      width: 32px;\n",
              "    }\n",
              "\n",
              "    .colab-df-convert:hover {\n",
              "      background-color: #E2EBFA;\n",
              "      box-shadow: 0px 1px 2px rgba(60, 64, 67, 0.3), 0px 1px 3px 1px rgba(60, 64, 67, 0.15);\n",
              "      fill: #174EA6;\n",
              "    }\n",
              "\n",
              "    [theme=dark] .colab-df-convert {\n",
              "      background-color: #3B4455;\n",
              "      fill: #D2E3FC;\n",
              "    }\n",
              "\n",
              "    [theme=dark] .colab-df-convert:hover {\n",
              "      background-color: #434B5C;\n",
              "      box-shadow: 0px 1px 3px 1px rgba(0, 0, 0, 0.15);\n",
              "      filter: drop-shadow(0px 1px 2px rgba(0, 0, 0, 0.3));\n",
              "      fill: #FFFFFF;\n",
              "    }\n",
              "  </style>\n",
              "\n",
              "      <script>\n",
              "        const buttonEl =\n",
              "          document.querySelector('#df-1e3c920b-6850-4bc1-ac63-c3f44500a563 button.colab-df-convert');\n",
              "        buttonEl.style.display =\n",
              "          google.colab.kernel.accessAllowed ? 'block' : 'none';\n",
              "\n",
              "        async function convertToInteractive(key) {\n",
              "          const element = document.querySelector('#df-1e3c920b-6850-4bc1-ac63-c3f44500a563');\n",
              "          const dataTable =\n",
              "            await google.colab.kernel.invokeFunction('convertToInteractive',\n",
              "                                                     [key], {});\n",
              "          if (!dataTable) return;\n",
              "\n",
              "          const docLinkHtml = 'Like what you see? Visit the ' +\n",
              "            '<a target=\"_blank\" href=https://colab.research.google.com/notebooks/data_table.ipynb>data table notebook</a>'\n",
              "            + ' to learn more about interactive tables.';\n",
              "          element.innerHTML = '';\n",
              "          dataTable['output_type'] = 'display_data';\n",
              "          await google.colab.output.renderOutput(dataTable, element);\n",
              "          const docLink = document.createElement('div');\n",
              "          docLink.innerHTML = docLinkHtml;\n",
              "          element.appendChild(docLink);\n",
              "        }\n",
              "      </script>\n",
              "    </div>\n",
              "  </div>\n",
              "  "
            ]
          },
          "metadata": {},
          "execution_count": 4
        }
      ],
      "source": [
        "data1.head()"
      ]
    },
    {
      "cell_type": "code",
      "execution_count": 7,
      "metadata": {
        "id": "SJMZKNGn4Lu9"
      },
      "outputs": [],
      "source": [
        "# Reading second csv file\n",
        "data2 = pd.read_csv('/content/drive/MyDrive/Stack Overflow Data Analysis/survey_results_schema.csv')"
      ]
    },
    {
      "cell_type": "code",
      "execution_count": 8,
      "metadata": {
        "colab": {
          "base_uri": "https://localhost:8080/",
          "height": 206
        },
        "id": "xNLsF5S34Lu9",
        "outputId": "3e899215-a68e-414a-978e-d7285bc84adf"
      },
      "outputs": [
        {
          "output_type": "execute_result",
          "data": {
            "text/plain": [
              "        Column                                       QuestionText\n",
              "0   Respondent  Randomized respondent ID number (not in order ...\n",
              "1   MainBranch  Which of the following options best describes ...\n",
              "2     Hobbyist                            Do you code as a hobby?\n",
              "3  OpenSourcer        How often do you contribute to open source?\n",
              "4   OpenSource  How do you feel about the quality of open sour..."
            ],
            "text/html": [
              "\n",
              "  <div id=\"df-47c94c0e-d5ea-40af-bf0d-4b09676736b2\">\n",
              "    <div class=\"colab-df-container\">\n",
              "      <div>\n",
              "<style scoped>\n",
              "    .dataframe tbody tr th:only-of-type {\n",
              "        vertical-align: middle;\n",
              "    }\n",
              "\n",
              "    .dataframe tbody tr th {\n",
              "        vertical-align: top;\n",
              "    }\n",
              "\n",
              "    .dataframe thead th {\n",
              "        text-align: right;\n",
              "    }\n",
              "</style>\n",
              "<table border=\"1\" class=\"dataframe\">\n",
              "  <thead>\n",
              "    <tr style=\"text-align: right;\">\n",
              "      <th></th>\n",
              "      <th>Column</th>\n",
              "      <th>QuestionText</th>\n",
              "    </tr>\n",
              "  </thead>\n",
              "  <tbody>\n",
              "    <tr>\n",
              "      <th>0</th>\n",
              "      <td>Respondent</td>\n",
              "      <td>Randomized respondent ID number (not in order ...</td>\n",
              "    </tr>\n",
              "    <tr>\n",
              "      <th>1</th>\n",
              "      <td>MainBranch</td>\n",
              "      <td>Which of the following options best describes ...</td>\n",
              "    </tr>\n",
              "    <tr>\n",
              "      <th>2</th>\n",
              "      <td>Hobbyist</td>\n",
              "      <td>Do you code as a hobby?</td>\n",
              "    </tr>\n",
              "    <tr>\n",
              "      <th>3</th>\n",
              "      <td>OpenSourcer</td>\n",
              "      <td>How often do you contribute to open source?</td>\n",
              "    </tr>\n",
              "    <tr>\n",
              "      <th>4</th>\n",
              "      <td>OpenSource</td>\n",
              "      <td>How do you feel about the quality of open sour...</td>\n",
              "    </tr>\n",
              "  </tbody>\n",
              "</table>\n",
              "</div>\n",
              "      <button class=\"colab-df-convert\" onclick=\"convertToInteractive('df-47c94c0e-d5ea-40af-bf0d-4b09676736b2')\"\n",
              "              title=\"Convert this dataframe to an interactive table.\"\n",
              "              style=\"display:none;\">\n",
              "        \n",
              "  <svg xmlns=\"http://www.w3.org/2000/svg\" height=\"24px\"viewBox=\"0 0 24 24\"\n",
              "       width=\"24px\">\n",
              "    <path d=\"M0 0h24v24H0V0z\" fill=\"none\"/>\n",
              "    <path d=\"M18.56 5.44l.94 2.06.94-2.06 2.06-.94-2.06-.94-.94-2.06-.94 2.06-2.06.94zm-11 1L8.5 8.5l.94-2.06 2.06-.94-2.06-.94L8.5 2.5l-.94 2.06-2.06.94zm10 10l.94 2.06.94-2.06 2.06-.94-2.06-.94-.94-2.06-.94 2.06-2.06.94z\"/><path d=\"M17.41 7.96l-1.37-1.37c-.4-.4-.92-.59-1.43-.59-.52 0-1.04.2-1.43.59L10.3 9.45l-7.72 7.72c-.78.78-.78 2.05 0 2.83L4 21.41c.39.39.9.59 1.41.59.51 0 1.02-.2 1.41-.59l7.78-7.78 2.81-2.81c.8-.78.8-2.07 0-2.86zM5.41 20L4 18.59l7.72-7.72 1.47 1.35L5.41 20z\"/>\n",
              "  </svg>\n",
              "      </button>\n",
              "      \n",
              "  <style>\n",
              "    .colab-df-container {\n",
              "      display:flex;\n",
              "      flex-wrap:wrap;\n",
              "      gap: 12px;\n",
              "    }\n",
              "\n",
              "    .colab-df-convert {\n",
              "      background-color: #E8F0FE;\n",
              "      border: none;\n",
              "      border-radius: 50%;\n",
              "      cursor: pointer;\n",
              "      display: none;\n",
              "      fill: #1967D2;\n",
              "      height: 32px;\n",
              "      padding: 0 0 0 0;\n",
              "      width: 32px;\n",
              "    }\n",
              "\n",
              "    .colab-df-convert:hover {\n",
              "      background-color: #E2EBFA;\n",
              "      box-shadow: 0px 1px 2px rgba(60, 64, 67, 0.3), 0px 1px 3px 1px rgba(60, 64, 67, 0.15);\n",
              "      fill: #174EA6;\n",
              "    }\n",
              "\n",
              "    [theme=dark] .colab-df-convert {\n",
              "      background-color: #3B4455;\n",
              "      fill: #D2E3FC;\n",
              "    }\n",
              "\n",
              "    [theme=dark] .colab-df-convert:hover {\n",
              "      background-color: #434B5C;\n",
              "      box-shadow: 0px 1px 3px 1px rgba(0, 0, 0, 0.15);\n",
              "      filter: drop-shadow(0px 1px 2px rgba(0, 0, 0, 0.3));\n",
              "      fill: #FFFFFF;\n",
              "    }\n",
              "  </style>\n",
              "\n",
              "      <script>\n",
              "        const buttonEl =\n",
              "          document.querySelector('#df-47c94c0e-d5ea-40af-bf0d-4b09676736b2 button.colab-df-convert');\n",
              "        buttonEl.style.display =\n",
              "          google.colab.kernel.accessAllowed ? 'block' : 'none';\n",
              "\n",
              "        async function convertToInteractive(key) {\n",
              "          const element = document.querySelector('#df-47c94c0e-d5ea-40af-bf0d-4b09676736b2');\n",
              "          const dataTable =\n",
              "            await google.colab.kernel.invokeFunction('convertToInteractive',\n",
              "                                                     [key], {});\n",
              "          if (!dataTable) return;\n",
              "\n",
              "          const docLinkHtml = 'Like what you see? Visit the ' +\n",
              "            '<a target=\"_blank\" href=https://colab.research.google.com/notebooks/data_table.ipynb>data table notebook</a>'\n",
              "            + ' to learn more about interactive tables.';\n",
              "          element.innerHTML = '';\n",
              "          dataTable['output_type'] = 'display_data';\n",
              "          await google.colab.output.renderOutput(dataTable, element);\n",
              "          const docLink = document.createElement('div');\n",
              "          docLink.innerHTML = docLinkHtml;\n",
              "          element.appendChild(docLink);\n",
              "        }\n",
              "      </script>\n",
              "    </div>\n",
              "  </div>\n",
              "  "
            ]
          },
          "metadata": {},
          "execution_count": 8
        }
      ],
      "source": [
        "data2.head()"
      ]
    },
    {
      "cell_type": "code",
      "execution_count": 9,
      "metadata": {
        "colab": {
          "base_uri": "https://localhost:8080/"
        },
        "id": "POUX9PM84Lu9",
        "outputId": "c317f331-8534-42c8-a308-15ae12630018"
      },
      "outputs": [
        {
          "output_type": "execute_result",
          "data": {
            "text/plain": [
              "(88883, 85)"
            ]
          },
          "metadata": {},
          "execution_count": 9
        }
      ],
      "source": [
        "data1.shape"
      ]
    },
    {
      "cell_type": "code",
      "execution_count": 10,
      "metadata": {
        "colab": {
          "base_uri": "https://localhost:8080/"
        },
        "id": "fXU7FIE54Lu9",
        "outputId": "55830bc8-ff75-4660-c767-1bf0e69face6"
      },
      "outputs": [
        {
          "output_type": "execute_result",
          "data": {
            "text/plain": [
              "(85, 2)"
            ]
          },
          "metadata": {},
          "execution_count": 10
        }
      ],
      "source": [
        "data2.shape"
      ]
    },
    {
      "cell_type": "code",
      "execution_count": 11,
      "metadata": {
        "colab": {
          "base_uri": "https://localhost:8080/"
        },
        "id": "qfzXMhi_4Lu-",
        "outputId": "92465cf1-f814-4b7a-ce7a-841a7cc7de1c"
      },
      "outputs": [
        {
          "output_type": "execute_result",
          "data": {
            "text/plain": [
              "Index(['Respondent', 'MainBranch', 'Hobbyist', 'OpenSourcer', 'OpenSource',\n",
              "       'Employment', 'Country', 'Student', 'EdLevel', 'UndergradMajor',\n",
              "       'EduOther', 'OrgSize', 'DevType', 'YearsCode', 'Age1stCode',\n",
              "       'YearsCodePro', 'CareerSat', 'JobSat', 'MgrIdiot', 'MgrMoney',\n",
              "       'MgrWant', 'JobSeek', 'LastHireDate', 'LastInt', 'FizzBuzz',\n",
              "       'JobFactors', 'ResumeUpdate', 'CurrencySymbol', 'CurrencyDesc',\n",
              "       'CompTotal', 'CompFreq', 'ConvertedComp', 'WorkWeekHrs', 'WorkPlan',\n",
              "       'WorkChallenge', 'WorkRemote', 'WorkLoc', 'ImpSyn', 'CodeRev',\n",
              "       'CodeRevHrs', 'UnitTests', 'PurchaseHow', 'PurchaseWhat',\n",
              "       'LanguageWorkedWith', 'LanguageDesireNextYear', 'DatabaseWorkedWith',\n",
              "       'DatabaseDesireNextYear', 'PlatformWorkedWith',\n",
              "       'PlatformDesireNextYear', 'WebFrameWorkedWith',\n",
              "       'WebFrameDesireNextYear', 'MiscTechWorkedWith',\n",
              "       'MiscTechDesireNextYear', 'DevEnviron', 'OpSys', 'Containers',\n",
              "       'BlockchainOrg', 'BlockchainIs', 'BetterLife', 'ITperson', 'OffOn',\n",
              "       'SocialMedia', 'Extraversion', 'ScreenName', 'SOVisit1st',\n",
              "       'SOVisitFreq', 'SOVisitTo', 'SOFindAnswer', 'SOTimeSaved',\n",
              "       'SOHowMuchTime', 'SOAccount', 'SOPartFreq', 'SOJobs', 'EntTeams',\n",
              "       'SOComm', 'WelcomeChange', 'SONewContent', 'Age', 'Gender', 'Trans',\n",
              "       'Sexuality', 'Ethnicity', 'Dependents', 'SurveyLength', 'SurveyEase'],\n",
              "      dtype='object')"
            ]
          },
          "metadata": {},
          "execution_count": 11
        }
      ],
      "source": [
        "data1.columns"
      ]
    },
    {
      "cell_type": "code",
      "execution_count": 12,
      "metadata": {
        "colab": {
          "base_uri": "https://localhost:8080/"
        },
        "id": "W733nhzh4Lu-",
        "outputId": "d2d0dd88-c70a-453a-d5c3-67ca441caafc"
      },
      "outputs": [
        {
          "output_type": "execute_result",
          "data": {
            "text/plain": [
              "Respondent          0\n",
              "MainBranch        552\n",
              "Hobbyist            0\n",
              "OpenSourcer         0\n",
              "OpenSource       2041\n",
              "                ...  \n",
              "Sexuality       12736\n",
              "Ethnicity       12215\n",
              "Dependents       5824\n",
              "SurveyLength     1899\n",
              "SurveyEase       1802\n",
              "Length: 85, dtype: int64"
            ]
          },
          "metadata": {},
          "execution_count": 12
        }
      ],
      "source": [
        "data1.isnull().sum()"
      ]
    },
    {
      "cell_type": "code",
      "execution_count": 13,
      "metadata": {
        "id": "1PUCLQhB4Lu-"
      },
      "outputs": [],
      "source": [
        "pd.set_option('display.max_columns',None)"
      ]
    },
    {
      "cell_type": "code",
      "execution_count": 14,
      "metadata": {
        "colab": {
          "base_uri": "https://localhost:8080/",
          "height": 808
        },
        "id": "6UCwXahF4Lu-",
        "outputId": "80323746-9b41-4bcb-a5fb-ba3dd781f8f5"
      },
      "outputs": [
        {
          "output_type": "execute_result",
          "data": {
            "text/plain": [
              "   Respondent                                         MainBranch Hobbyist  \\\n",
              "0           1             I am a student who is learning to code      Yes   \n",
              "1           2             I am a student who is learning to code       No   \n",
              "2           3  I am not primarily a developer, but I write co...      Yes   \n",
              "3           4                     I am a developer by profession       No   \n",
              "4           5                     I am a developer by profession      Yes   \n",
              "\n",
              "                  OpenSourcer  \\\n",
              "0                       Never   \n",
              "1     Less than once per year   \n",
              "2                       Never   \n",
              "3                       Never   \n",
              "4  Once a month or more often   \n",
              "\n",
              "                                          OpenSource  \\\n",
              "0  The quality of OSS and closed source software ...   \n",
              "1  The quality of OSS and closed source software ...   \n",
              "2  The quality of OSS and closed source software ...   \n",
              "3  The quality of OSS and closed source software ...   \n",
              "4  OSS is, on average, of HIGHER quality than pro...   \n",
              "\n",
              "                               Employment                 Country  \\\n",
              "0  Not employed, and not looking for work          United Kingdom   \n",
              "1      Not employed, but looking for work  Bosnia and Herzegovina   \n",
              "2                      Employed full-time                Thailand   \n",
              "3                      Employed full-time           United States   \n",
              "4                      Employed full-time                 Ukraine   \n",
              "\n",
              "          Student                                            EdLevel  \\\n",
              "0              No                          Primary/elementary school   \n",
              "1  Yes, full-time  Secondary school (e.g. American high school, G...   \n",
              "2              No           Bachelor’s degree (BA, BS, B.Eng., etc.)   \n",
              "3              No           Bachelor’s degree (BA, BS, B.Eng., etc.)   \n",
              "4              No           Bachelor’s degree (BA, BS, B.Eng., etc.)   \n",
              "\n",
              "                                      UndergradMajor  \\\n",
              "0                                                NaN   \n",
              "1                                                NaN   \n",
              "2                      Web development or web design   \n",
              "3  Computer science, computer engineering, or sof...   \n",
              "4  Computer science, computer engineering, or sof...   \n",
              "\n",
              "                                            EduOther  \\\n",
              "0  Taught yourself a new language, framework, or ...   \n",
              "1  Taken an online course in programming or softw...   \n",
              "2  Taught yourself a new language, framework, or ...   \n",
              "3  Taken an online course in programming or softw...   \n",
              "4  Taken an online course in programming or softw...   \n",
              "\n",
              "                    OrgSize  \\\n",
              "0                       NaN   \n",
              "1                       NaN   \n",
              "2      100 to 499 employees   \n",
              "3      100 to 499 employees   \n",
              "4  10,000 or more employees   \n",
              "\n",
              "                                             DevType YearsCode Age1stCode  \\\n",
              "0                                                NaN         4         10   \n",
              "1  Developer, desktop or enterprise applications;...       NaN         17   \n",
              "2  Designer;Developer, back-end;Developer, front-...         3         22   \n",
              "3                              Developer, full-stack         3         16   \n",
              "4  Academic researcher;Developer, desktop or ente...        16         14   \n",
              "\n",
              "       YearsCodePro           CareerSat                 JobSat  \\\n",
              "0               NaN                 NaN                    NaN   \n",
              "1               NaN                 NaN                    NaN   \n",
              "2                 1  Slightly satisfied     Slightly satisfied   \n",
              "3  Less than 1 year      Very satisfied     Slightly satisfied   \n",
              "4                 9   Very dissatisfied  Slightly dissatisfied   \n",
              "\n",
              "               MgrIdiot  MgrMoney   MgrWant  \\\n",
              "0                   NaN       NaN       NaN   \n",
              "1                   NaN       NaN       NaN   \n",
              "2  Not at all confident  Not sure  Not sure   \n",
              "3        Very confident        No  Not sure   \n",
              "4    Somewhat confident       Yes        No   \n",
              "\n",
              "                                             JobSeek          LastHireDate  \\\n",
              "0                                                NaN                   NaN   \n",
              "1                    I am actively looking for a job  I've never had a job   \n",
              "2  I’m not actively looking, but I am open to new...         1-2 years ago   \n",
              "3       I am not interested in new job opportunities  Less than a year ago   \n",
              "4       I am not interested in new job opportunities  Less than a year ago   \n",
              "\n",
              "                                             LastInt FizzBuzz  \\\n",
              "0                                                NaN      NaN   \n",
              "1                                                NaN      NaN   \n",
              "2                Interview with people in peer roles       No   \n",
              "3  Write code by hand (e.g., on a whiteboard);Int...       No   \n",
              "4  Write any code;Write code by hand (e.g., on a ...       No   \n",
              "\n",
              "                                          JobFactors  \\\n",
              "0                                                NaN   \n",
              "1  Financial performance or funding status of the...   \n",
              "2  Languages, frameworks, and other technologies ...   \n",
              "3  Languages, frameworks, and other technologies ...   \n",
              "4  Industry that I'd be working in;Languages, fra...   \n",
              "\n",
              "                                        ResumeUpdate CurrencySymbol  \\\n",
              "0                                                NaN            NaN   \n",
              "1  Something else changed (education, award, medi...            NaN   \n",
              "2                   I was preparing for a job search            THB   \n",
              "3                   I was preparing for a job search            USD   \n",
              "4                   I was preparing for a job search            UAH   \n",
              "\n",
              "           CurrencyDesc  CompTotal CompFreq  ConvertedComp  WorkWeekHrs  \\\n",
              "0                   NaN        NaN      NaN            NaN          NaN   \n",
              "1                   NaN        NaN      NaN            NaN          NaN   \n",
              "2             Thai baht    23000.0  Monthly         8820.0         40.0   \n",
              "3  United States dollar    61000.0   Yearly        61000.0         80.0   \n",
              "4     Ukrainian hryvnia        NaN      NaN            NaN         55.0   \n",
              "\n",
              "                                            WorkPlan  \\\n",
              "0                                                NaN   \n",
              "1                                                NaN   \n",
              "2  There's no schedule or spec; I work on what se...   \n",
              "3  There's no schedule or spec; I work on what se...   \n",
              "4  There is a schedule and/or spec (made by me or...   \n",
              "\n",
              "                                       WorkChallenge  \\\n",
              "0                                                NaN   \n",
              "1                                                NaN   \n",
              "2  Distracting work environment;Inadequate access...   \n",
              "3                                                NaN   \n",
              "4  Being tasked with non-development work;Inadequ...   \n",
              "\n",
              "                         WorkRemote WorkLoc                  ImpSyn  \\\n",
              "0                               NaN     NaN                     NaN   \n",
              "1                               NaN     NaN                     NaN   \n",
              "2  Less than once per month / Never    Home                 Average   \n",
              "3  Less than once per month / Never    Home  A little below average   \n",
              "4             A few days each month  Office  A little above average   \n",
              "\n",
              "                                   CodeRev  CodeRevHrs  \\\n",
              "0                                      NaN         NaN   \n",
              "1                                      NaN         NaN   \n",
              "2                                       No         NaN   \n",
              "3                                       No         NaN   \n",
              "4  Yes, because I see value in code review         NaN   \n",
              "\n",
              "                       UnitTests  \\\n",
              "0                            NaN   \n",
              "1                            NaN   \n",
              "2      No, but I think we should   \n",
              "3      No, but I think we should   \n",
              "4  Yes, it's part of our process   \n",
              "\n",
              "                                         PurchaseHow  \\\n",
              "0                                                NaN   \n",
              "1                                                NaN   \n",
              "2                                           Not sure   \n",
              "3  Developers typically have the most influence o...   \n",
              "4                                           Not sure   \n",
              "\n",
              "                    PurchaseWhat                           LanguageWorkedWith  \\\n",
              "0                            NaN              HTML/CSS;Java;JavaScript;Python   \n",
              "1                            NaN                          C++;HTML/CSS;Python   \n",
              "2  I have little or no influence                                     HTML/CSS   \n",
              "3  I have little or no influence                          C;C++;C#;Python;SQL   \n",
              "4  I have little or no influence  C++;HTML/CSS;Java;JavaScript;Python;SQL;VBA   \n",
              "\n",
              "                            LanguageDesireNextYear  \\\n",
              "0  C;C++;C#;Go;HTML/CSS;Java;JavaScript;Python;SQL   \n",
              "1                      C++;HTML/CSS;JavaScript;SQL   \n",
              "2                                  Elixir;HTML/CSS   \n",
              "3                              C;C#;JavaScript;SQL   \n",
              "4         HTML/CSS;Java;JavaScript;SQL;WebAssembly   \n",
              "\n",
              "                                 DatabaseWorkedWith  \\\n",
              "0                                            SQLite   \n",
              "1                                               NaN   \n",
              "2                                        PostgreSQL   \n",
              "3                                      MySQL;SQLite   \n",
              "4  Couchbase;MongoDB;MySQL;Oracle;PostgreSQL;SQLite   \n",
              "\n",
              "                              DatabaseDesireNextYear  \\\n",
              "0                                              MySQL   \n",
              "1                                              MySQL   \n",
              "2                                         PostgreSQL   \n",
              "3                                       MySQL;SQLite   \n",
              "4  Couchbase;Firebase;MongoDB;MySQL;Oracle;Postgr...   \n",
              "\n",
              "                  PlatformWorkedWith                 PlatformDesireNextYear  \\\n",
              "0                      MacOS;Windows                Android;Arduino;Windows   \n",
              "1                            Windows                                Windows   \n",
              "2                                NaN                                    NaN   \n",
              "3                      Linux;Windows                          Linux;Windows   \n",
              "4  Android;Linux;MacOS;Slack;Windows  Android;Docker;Kubernetes;Linux;Slack   \n",
              "\n",
              "                            WebFrameWorkedWith        WebFrameDesireNextYear  \\\n",
              "0                                 Django;Flask                  Flask;jQuery   \n",
              "1                                       Django                        Django   \n",
              "2                                          NaN                     Other(s):   \n",
              "3                                          NaN                           NaN   \n",
              "4  Django;Express;Flask;jQuery;React.js;Spring  Flask;jQuery;React.js;Spring   \n",
              "\n",
              "  MiscTechWorkedWith                    MiscTechDesireNextYear  \\\n",
              "0            Node.js                                   Node.js   \n",
              "1                NaN                                       NaN   \n",
              "2                NaN                                       NaN   \n",
              "3               .NET                                      .NET   \n",
              "4    Cordova;Node.js  Apache Spark;Hadoop;Node.js;React Native   \n",
              "\n",
              "                                     DevEnviron        OpSys  \\\n",
              "0                    IntelliJ;Notepad++;PyCharm      Windows   \n",
              "1                                  Atom;PyCharm      Windows   \n",
              "2                        Vim;Visual Studio Code  Linux-based   \n",
              "3  Eclipse;Vim;Visual Studio;Visual Studio Code      Windows   \n",
              "4                        IntelliJ;Notepad++;Vim  Linux-based   \n",
              "\n",
              "                               Containers BlockchainOrg  \\\n",
              "0                 I do not use containers           NaN   \n",
              "1                 I do not use containers           NaN   \n",
              "2                 I do not use containers           NaN   \n",
              "3                 I do not use containers    Not at all   \n",
              "4  Outside of work, for personal projects    Not at all   \n",
              "\n",
              "                                        BlockchainIs BetterLife  \\\n",
              "0                                                NaN        Yes   \n",
              "1  Useful across many domains and could change ma...        Yes   \n",
              "2                                                NaN        Yes   \n",
              "3  Useful for decentralized currency (i.e., Bitcoin)        Yes   \n",
              "4                                                NaN        Yes   \n",
              "\n",
              "                                   ITperson OffOn SocialMedia  \\\n",
              "0  Fortunately, someone else has that title   Yes     Twitter   \n",
              "1                                       Yes   Yes   Instagram   \n",
              "2                                       Yes   Yes      Reddit   \n",
              "3                                      SIGH   Yes      Reddit   \n",
              "4                                  Also Yes   Yes    Facebook   \n",
              "\n",
              "               Extraversion ScreenName        SOVisit1st  \\\n",
              "0                    Online   Username              2017   \n",
              "1                    Online   Username              2017   \n",
              "2  In real life (in person)   Username              2011   \n",
              "3  In real life (in person)   Username              2014   \n",
              "4  In real life (in person)   Username  I don't remember   \n",
              "\n",
              "                       SOVisitFreq  \\\n",
              "0  A few times per month or weekly   \n",
              "1            Daily or almost daily   \n",
              "2             A few times per week   \n",
              "3            Daily or almost daily   \n",
              "4           Multiple times per day   \n",
              "\n",
              "                                           SOVisitTo  \\\n",
              "0  Find answers to specific questions;Learn how t...   \n",
              "1  Find answers to specific questions;Learn how t...   \n",
              "2  Find answers to specific questions;Learn how t...   \n",
              "3  Find answers to specific questions;Pass the ti...   \n",
              "4                 Find answers to specific questions   \n",
              "\n",
              "                  SOFindAnswer                     SOTimeSaved  SOHowMuchTime  \\\n",
              "0           3-5 times per week  Stack Overflow was much faster  31-60 minutes   \n",
              "1           3-5 times per week  Stack Overflow was much faster  11-30 minutes   \n",
              "2          6-10 times per week        They were about the same            NaN   \n",
              "3           1-2 times per week  Stack Overflow was much faster  31-60 minutes   \n",
              "4  More than 10 times per week  Stack Overflow was much faster            NaN   \n",
              "\n",
              "  SOAccount                           SOPartFreq  \\\n",
              "0        No                                  NaN   \n",
              "1       Yes      A few times per month or weekly   \n",
              "2       Yes  Less than once per month or monthly   \n",
              "3       Yes  Less than once per month or monthly   \n",
              "4       Yes      A few times per month or weekly   \n",
              "\n",
              "                                              SOJobs  \\\n",
              "0  No, I didn't know that Stack Overflow had a jo...   \n",
              "1  No, I knew that Stack Overflow had a job board...   \n",
              "2                                                Yes   \n",
              "3                                                Yes   \n",
              "4  No, I knew that Stack Overflow had a job board...   \n",
              "\n",
              "                                            EntTeams           SOComm  \\\n",
              "0                No, and I don't know what those are          Neutral   \n",
              "1                No, and I don't know what those are    Yes, somewhat   \n",
              "2  No, I've heard of them, but I am not part of a...          Neutral   \n",
              "3                No, and I don't know what those are   No, not really   \n",
              "4  No, I've heard of them, but I am not part of a...  Yes, definitely   \n",
              "\n",
              "                             WelcomeChange  \\\n",
              "0  Just as welcome now as I felt last year   \n",
              "1  Just as welcome now as I felt last year   \n",
              "2  Just as welcome now as I felt last year   \n",
              "3  Just as welcome now as I felt last year   \n",
              "4  Just as welcome now as I felt last year   \n",
              "\n",
              "                                        SONewContent   Age Gender Trans  \\\n",
              "0  Tech articles written by other developers;Indu...  14.0    Man    No   \n",
              "1  Tech articles written by other developers;Indu...  19.0    Man    No   \n",
              "2  Tech meetups or events in your area;Courses on...  28.0    Man    No   \n",
              "3  Tech articles written by other developers;Indu...  22.0    Man    No   \n",
              "4  Tech meetups or events in your area;Courses on...  30.0    Man    No   \n",
              "\n",
              "                 Sexuality                                 Ethnicity  \\\n",
              "0  Straight / Heterosexual                                       NaN   \n",
              "1  Straight / Heterosexual                                       NaN   \n",
              "2  Straight / Heterosexual                                       NaN   \n",
              "3  Straight / Heterosexual              White or of European descent   \n",
              "4  Straight / Heterosexual  White or of European descent;Multiracial   \n",
              "\n",
              "  Dependents           SurveyLength                  SurveyEase  \n",
              "0         No  Appropriate in length  Neither easy nor difficult  \n",
              "1         No  Appropriate in length  Neither easy nor difficult  \n",
              "2        Yes  Appropriate in length  Neither easy nor difficult  \n",
              "3         No  Appropriate in length                        Easy  \n",
              "4         No  Appropriate in length                        Easy  "
            ],
            "text/html": [
              "\n",
              "  <div id=\"df-feb8ec77-7376-4c0d-bfb4-444e6a1e9426\">\n",
              "    <div class=\"colab-df-container\">\n",
              "      <div>\n",
              "<style scoped>\n",
              "    .dataframe tbody tr th:only-of-type {\n",
              "        vertical-align: middle;\n",
              "    }\n",
              "\n",
              "    .dataframe tbody tr th {\n",
              "        vertical-align: top;\n",
              "    }\n",
              "\n",
              "    .dataframe thead th {\n",
              "        text-align: right;\n",
              "    }\n",
              "</style>\n",
              "<table border=\"1\" class=\"dataframe\">\n",
              "  <thead>\n",
              "    <tr style=\"text-align: right;\">\n",
              "      <th></th>\n",
              "      <th>Respondent</th>\n",
              "      <th>MainBranch</th>\n",
              "      <th>Hobbyist</th>\n",
              "      <th>OpenSourcer</th>\n",
              "      <th>OpenSource</th>\n",
              "      <th>Employment</th>\n",
              "      <th>Country</th>\n",
              "      <th>Student</th>\n",
              "      <th>EdLevel</th>\n",
              "      <th>UndergradMajor</th>\n",
              "      <th>EduOther</th>\n",
              "      <th>OrgSize</th>\n",
              "      <th>DevType</th>\n",
              "      <th>YearsCode</th>\n",
              "      <th>Age1stCode</th>\n",
              "      <th>YearsCodePro</th>\n",
              "      <th>CareerSat</th>\n",
              "      <th>JobSat</th>\n",
              "      <th>MgrIdiot</th>\n",
              "      <th>MgrMoney</th>\n",
              "      <th>MgrWant</th>\n",
              "      <th>JobSeek</th>\n",
              "      <th>LastHireDate</th>\n",
              "      <th>LastInt</th>\n",
              "      <th>FizzBuzz</th>\n",
              "      <th>JobFactors</th>\n",
              "      <th>ResumeUpdate</th>\n",
              "      <th>CurrencySymbol</th>\n",
              "      <th>CurrencyDesc</th>\n",
              "      <th>CompTotal</th>\n",
              "      <th>CompFreq</th>\n",
              "      <th>ConvertedComp</th>\n",
              "      <th>WorkWeekHrs</th>\n",
              "      <th>WorkPlan</th>\n",
              "      <th>WorkChallenge</th>\n",
              "      <th>WorkRemote</th>\n",
              "      <th>WorkLoc</th>\n",
              "      <th>ImpSyn</th>\n",
              "      <th>CodeRev</th>\n",
              "      <th>CodeRevHrs</th>\n",
              "      <th>UnitTests</th>\n",
              "      <th>PurchaseHow</th>\n",
              "      <th>PurchaseWhat</th>\n",
              "      <th>LanguageWorkedWith</th>\n",
              "      <th>LanguageDesireNextYear</th>\n",
              "      <th>DatabaseWorkedWith</th>\n",
              "      <th>DatabaseDesireNextYear</th>\n",
              "      <th>PlatformWorkedWith</th>\n",
              "      <th>PlatformDesireNextYear</th>\n",
              "      <th>WebFrameWorkedWith</th>\n",
              "      <th>WebFrameDesireNextYear</th>\n",
              "      <th>MiscTechWorkedWith</th>\n",
              "      <th>MiscTechDesireNextYear</th>\n",
              "      <th>DevEnviron</th>\n",
              "      <th>OpSys</th>\n",
              "      <th>Containers</th>\n",
              "      <th>BlockchainOrg</th>\n",
              "      <th>BlockchainIs</th>\n",
              "      <th>BetterLife</th>\n",
              "      <th>ITperson</th>\n",
              "      <th>OffOn</th>\n",
              "      <th>SocialMedia</th>\n",
              "      <th>Extraversion</th>\n",
              "      <th>ScreenName</th>\n",
              "      <th>SOVisit1st</th>\n",
              "      <th>SOVisitFreq</th>\n",
              "      <th>SOVisitTo</th>\n",
              "      <th>SOFindAnswer</th>\n",
              "      <th>SOTimeSaved</th>\n",
              "      <th>SOHowMuchTime</th>\n",
              "      <th>SOAccount</th>\n",
              "      <th>SOPartFreq</th>\n",
              "      <th>SOJobs</th>\n",
              "      <th>EntTeams</th>\n",
              "      <th>SOComm</th>\n",
              "      <th>WelcomeChange</th>\n",
              "      <th>SONewContent</th>\n",
              "      <th>Age</th>\n",
              "      <th>Gender</th>\n",
              "      <th>Trans</th>\n",
              "      <th>Sexuality</th>\n",
              "      <th>Ethnicity</th>\n",
              "      <th>Dependents</th>\n",
              "      <th>SurveyLength</th>\n",
              "      <th>SurveyEase</th>\n",
              "    </tr>\n",
              "  </thead>\n",
              "  <tbody>\n",
              "    <tr>\n",
              "      <th>0</th>\n",
              "      <td>1</td>\n",
              "      <td>I am a student who is learning to code</td>\n",
              "      <td>Yes</td>\n",
              "      <td>Never</td>\n",
              "      <td>The quality of OSS and closed source software ...</td>\n",
              "      <td>Not employed, and not looking for work</td>\n",
              "      <td>United Kingdom</td>\n",
              "      <td>No</td>\n",
              "      <td>Primary/elementary school</td>\n",
              "      <td>NaN</td>\n",
              "      <td>Taught yourself a new language, framework, or ...</td>\n",
              "      <td>NaN</td>\n",
              "      <td>NaN</td>\n",
              "      <td>4</td>\n",
              "      <td>10</td>\n",
              "      <td>NaN</td>\n",
              "      <td>NaN</td>\n",
              "      <td>NaN</td>\n",
              "      <td>NaN</td>\n",
              "      <td>NaN</td>\n",
              "      <td>NaN</td>\n",
              "      <td>NaN</td>\n",
              "      <td>NaN</td>\n",
              "      <td>NaN</td>\n",
              "      <td>NaN</td>\n",
              "      <td>NaN</td>\n",
              "      <td>NaN</td>\n",
              "      <td>NaN</td>\n",
              "      <td>NaN</td>\n",
              "      <td>NaN</td>\n",
              "      <td>NaN</td>\n",
              "      <td>NaN</td>\n",
              "      <td>NaN</td>\n",
              "      <td>NaN</td>\n",
              "      <td>NaN</td>\n",
              "      <td>NaN</td>\n",
              "      <td>NaN</td>\n",
              "      <td>NaN</td>\n",
              "      <td>NaN</td>\n",
              "      <td>NaN</td>\n",
              "      <td>NaN</td>\n",
              "      <td>NaN</td>\n",
              "      <td>NaN</td>\n",
              "      <td>HTML/CSS;Java;JavaScript;Python</td>\n",
              "      <td>C;C++;C#;Go;HTML/CSS;Java;JavaScript;Python;SQL</td>\n",
              "      <td>SQLite</td>\n",
              "      <td>MySQL</td>\n",
              "      <td>MacOS;Windows</td>\n",
              "      <td>Android;Arduino;Windows</td>\n",
              "      <td>Django;Flask</td>\n",
              "      <td>Flask;jQuery</td>\n",
              "      <td>Node.js</td>\n",
              "      <td>Node.js</td>\n",
              "      <td>IntelliJ;Notepad++;PyCharm</td>\n",
              "      <td>Windows</td>\n",
              "      <td>I do not use containers</td>\n",
              "      <td>NaN</td>\n",
              "      <td>NaN</td>\n",
              "      <td>Yes</td>\n",
              "      <td>Fortunately, someone else has that title</td>\n",
              "      <td>Yes</td>\n",
              "      <td>Twitter</td>\n",
              "      <td>Online</td>\n",
              "      <td>Username</td>\n",
              "      <td>2017</td>\n",
              "      <td>A few times per month or weekly</td>\n",
              "      <td>Find answers to specific questions;Learn how t...</td>\n",
              "      <td>3-5 times per week</td>\n",
              "      <td>Stack Overflow was much faster</td>\n",
              "      <td>31-60 minutes</td>\n",
              "      <td>No</td>\n",
              "      <td>NaN</td>\n",
              "      <td>No, I didn't know that Stack Overflow had a jo...</td>\n",
              "      <td>No, and I don't know what those are</td>\n",
              "      <td>Neutral</td>\n",
              "      <td>Just as welcome now as I felt last year</td>\n",
              "      <td>Tech articles written by other developers;Indu...</td>\n",
              "      <td>14.0</td>\n",
              "      <td>Man</td>\n",
              "      <td>No</td>\n",
              "      <td>Straight / Heterosexual</td>\n",
              "      <td>NaN</td>\n",
              "      <td>No</td>\n",
              "      <td>Appropriate in length</td>\n",
              "      <td>Neither easy nor difficult</td>\n",
              "    </tr>\n",
              "    <tr>\n",
              "      <th>1</th>\n",
              "      <td>2</td>\n",
              "      <td>I am a student who is learning to code</td>\n",
              "      <td>No</td>\n",
              "      <td>Less than once per year</td>\n",
              "      <td>The quality of OSS and closed source software ...</td>\n",
              "      <td>Not employed, but looking for work</td>\n",
              "      <td>Bosnia and Herzegovina</td>\n",
              "      <td>Yes, full-time</td>\n",
              "      <td>Secondary school (e.g. American high school, G...</td>\n",
              "      <td>NaN</td>\n",
              "      <td>Taken an online course in programming or softw...</td>\n",
              "      <td>NaN</td>\n",
              "      <td>Developer, desktop or enterprise applications;...</td>\n",
              "      <td>NaN</td>\n",
              "      <td>17</td>\n",
              "      <td>NaN</td>\n",
              "      <td>NaN</td>\n",
              "      <td>NaN</td>\n",
              "      <td>NaN</td>\n",
              "      <td>NaN</td>\n",
              "      <td>NaN</td>\n",
              "      <td>I am actively looking for a job</td>\n",
              "      <td>I've never had a job</td>\n",
              "      <td>NaN</td>\n",
              "      <td>NaN</td>\n",
              "      <td>Financial performance or funding status of the...</td>\n",
              "      <td>Something else changed (education, award, medi...</td>\n",
              "      <td>NaN</td>\n",
              "      <td>NaN</td>\n",
              "      <td>NaN</td>\n",
              "      <td>NaN</td>\n",
              "      <td>NaN</td>\n",
              "      <td>NaN</td>\n",
              "      <td>NaN</td>\n",
              "      <td>NaN</td>\n",
              "      <td>NaN</td>\n",
              "      <td>NaN</td>\n",
              "      <td>NaN</td>\n",
              "      <td>NaN</td>\n",
              "      <td>NaN</td>\n",
              "      <td>NaN</td>\n",
              "      <td>NaN</td>\n",
              "      <td>NaN</td>\n",
              "      <td>C++;HTML/CSS;Python</td>\n",
              "      <td>C++;HTML/CSS;JavaScript;SQL</td>\n",
              "      <td>NaN</td>\n",
              "      <td>MySQL</td>\n",
              "      <td>Windows</td>\n",
              "      <td>Windows</td>\n",
              "      <td>Django</td>\n",
              "      <td>Django</td>\n",
              "      <td>NaN</td>\n",
              "      <td>NaN</td>\n",
              "      <td>Atom;PyCharm</td>\n",
              "      <td>Windows</td>\n",
              "      <td>I do not use containers</td>\n",
              "      <td>NaN</td>\n",
              "      <td>Useful across many domains and could change ma...</td>\n",
              "      <td>Yes</td>\n",
              "      <td>Yes</td>\n",
              "      <td>Yes</td>\n",
              "      <td>Instagram</td>\n",
              "      <td>Online</td>\n",
              "      <td>Username</td>\n",
              "      <td>2017</td>\n",
              "      <td>Daily or almost daily</td>\n",
              "      <td>Find answers to specific questions;Learn how t...</td>\n",
              "      <td>3-5 times per week</td>\n",
              "      <td>Stack Overflow was much faster</td>\n",
              "      <td>11-30 minutes</td>\n",
              "      <td>Yes</td>\n",
              "      <td>A few times per month or weekly</td>\n",
              "      <td>No, I knew that Stack Overflow had a job board...</td>\n",
              "      <td>No, and I don't know what those are</td>\n",
              "      <td>Yes, somewhat</td>\n",
              "      <td>Just as welcome now as I felt last year</td>\n",
              "      <td>Tech articles written by other developers;Indu...</td>\n",
              "      <td>19.0</td>\n",
              "      <td>Man</td>\n",
              "      <td>No</td>\n",
              "      <td>Straight / Heterosexual</td>\n",
              "      <td>NaN</td>\n",
              "      <td>No</td>\n",
              "      <td>Appropriate in length</td>\n",
              "      <td>Neither easy nor difficult</td>\n",
              "    </tr>\n",
              "    <tr>\n",
              "      <th>2</th>\n",
              "      <td>3</td>\n",
              "      <td>I am not primarily a developer, but I write co...</td>\n",
              "      <td>Yes</td>\n",
              "      <td>Never</td>\n",
              "      <td>The quality of OSS and closed source software ...</td>\n",
              "      <td>Employed full-time</td>\n",
              "      <td>Thailand</td>\n",
              "      <td>No</td>\n",
              "      <td>Bachelor’s degree (BA, BS, B.Eng., etc.)</td>\n",
              "      <td>Web development or web design</td>\n",
              "      <td>Taught yourself a new language, framework, or ...</td>\n",
              "      <td>100 to 499 employees</td>\n",
              "      <td>Designer;Developer, back-end;Developer, front-...</td>\n",
              "      <td>3</td>\n",
              "      <td>22</td>\n",
              "      <td>1</td>\n",
              "      <td>Slightly satisfied</td>\n",
              "      <td>Slightly satisfied</td>\n",
              "      <td>Not at all confident</td>\n",
              "      <td>Not sure</td>\n",
              "      <td>Not sure</td>\n",
              "      <td>I’m not actively looking, but I am open to new...</td>\n",
              "      <td>1-2 years ago</td>\n",
              "      <td>Interview with people in peer roles</td>\n",
              "      <td>No</td>\n",
              "      <td>Languages, frameworks, and other technologies ...</td>\n",
              "      <td>I was preparing for a job search</td>\n",
              "      <td>THB</td>\n",
              "      <td>Thai baht</td>\n",
              "      <td>23000.0</td>\n",
              "      <td>Monthly</td>\n",
              "      <td>8820.0</td>\n",
              "      <td>40.0</td>\n",
              "      <td>There's no schedule or spec; I work on what se...</td>\n",
              "      <td>Distracting work environment;Inadequate access...</td>\n",
              "      <td>Less than once per month / Never</td>\n",
              "      <td>Home</td>\n",
              "      <td>Average</td>\n",
              "      <td>No</td>\n",
              "      <td>NaN</td>\n",
              "      <td>No, but I think we should</td>\n",
              "      <td>Not sure</td>\n",
              "      <td>I have little or no influence</td>\n",
              "      <td>HTML/CSS</td>\n",
              "      <td>Elixir;HTML/CSS</td>\n",
              "      <td>PostgreSQL</td>\n",
              "      <td>PostgreSQL</td>\n",
              "      <td>NaN</td>\n",
              "      <td>NaN</td>\n",
              "      <td>NaN</td>\n",
              "      <td>Other(s):</td>\n",
              "      <td>NaN</td>\n",
              "      <td>NaN</td>\n",
              "      <td>Vim;Visual Studio Code</td>\n",
              "      <td>Linux-based</td>\n",
              "      <td>I do not use containers</td>\n",
              "      <td>NaN</td>\n",
              "      <td>NaN</td>\n",
              "      <td>Yes</td>\n",
              "      <td>Yes</td>\n",
              "      <td>Yes</td>\n",
              "      <td>Reddit</td>\n",
              "      <td>In real life (in person)</td>\n",
              "      <td>Username</td>\n",
              "      <td>2011</td>\n",
              "      <td>A few times per week</td>\n",
              "      <td>Find answers to specific questions;Learn how t...</td>\n",
              "      <td>6-10 times per week</td>\n",
              "      <td>They were about the same</td>\n",
              "      <td>NaN</td>\n",
              "      <td>Yes</td>\n",
              "      <td>Less than once per month or monthly</td>\n",
              "      <td>Yes</td>\n",
              "      <td>No, I've heard of them, but I am not part of a...</td>\n",
              "      <td>Neutral</td>\n",
              "      <td>Just as welcome now as I felt last year</td>\n",
              "      <td>Tech meetups or events in your area;Courses on...</td>\n",
              "      <td>28.0</td>\n",
              "      <td>Man</td>\n",
              "      <td>No</td>\n",
              "      <td>Straight / Heterosexual</td>\n",
              "      <td>NaN</td>\n",
              "      <td>Yes</td>\n",
              "      <td>Appropriate in length</td>\n",
              "      <td>Neither easy nor difficult</td>\n",
              "    </tr>\n",
              "    <tr>\n",
              "      <th>3</th>\n",
              "      <td>4</td>\n",
              "      <td>I am a developer by profession</td>\n",
              "      <td>No</td>\n",
              "      <td>Never</td>\n",
              "      <td>The quality of OSS and closed source software ...</td>\n",
              "      <td>Employed full-time</td>\n",
              "      <td>United States</td>\n",
              "      <td>No</td>\n",
              "      <td>Bachelor’s degree (BA, BS, B.Eng., etc.)</td>\n",
              "      <td>Computer science, computer engineering, or sof...</td>\n",
              "      <td>Taken an online course in programming or softw...</td>\n",
              "      <td>100 to 499 employees</td>\n",
              "      <td>Developer, full-stack</td>\n",
              "      <td>3</td>\n",
              "      <td>16</td>\n",
              "      <td>Less than 1 year</td>\n",
              "      <td>Very satisfied</td>\n",
              "      <td>Slightly satisfied</td>\n",
              "      <td>Very confident</td>\n",
              "      <td>No</td>\n",
              "      <td>Not sure</td>\n",
              "      <td>I am not interested in new job opportunities</td>\n",
              "      <td>Less than a year ago</td>\n",
              "      <td>Write code by hand (e.g., on a whiteboard);Int...</td>\n",
              "      <td>No</td>\n",
              "      <td>Languages, frameworks, and other technologies ...</td>\n",
              "      <td>I was preparing for a job search</td>\n",
              "      <td>USD</td>\n",
              "      <td>United States dollar</td>\n",
              "      <td>61000.0</td>\n",
              "      <td>Yearly</td>\n",
              "      <td>61000.0</td>\n",
              "      <td>80.0</td>\n",
              "      <td>There's no schedule or spec; I work on what se...</td>\n",
              "      <td>NaN</td>\n",
              "      <td>Less than once per month / Never</td>\n",
              "      <td>Home</td>\n",
              "      <td>A little below average</td>\n",
              "      <td>No</td>\n",
              "      <td>NaN</td>\n",
              "      <td>No, but I think we should</td>\n",
              "      <td>Developers typically have the most influence o...</td>\n",
              "      <td>I have little or no influence</td>\n",
              "      <td>C;C++;C#;Python;SQL</td>\n",
              "      <td>C;C#;JavaScript;SQL</td>\n",
              "      <td>MySQL;SQLite</td>\n",
              "      <td>MySQL;SQLite</td>\n",
              "      <td>Linux;Windows</td>\n",
              "      <td>Linux;Windows</td>\n",
              "      <td>NaN</td>\n",
              "      <td>NaN</td>\n",
              "      <td>.NET</td>\n",
              "      <td>.NET</td>\n",
              "      <td>Eclipse;Vim;Visual Studio;Visual Studio Code</td>\n",
              "      <td>Windows</td>\n",
              "      <td>I do not use containers</td>\n",
              "      <td>Not at all</td>\n",
              "      <td>Useful for decentralized currency (i.e., Bitcoin)</td>\n",
              "      <td>Yes</td>\n",
              "      <td>SIGH</td>\n",
              "      <td>Yes</td>\n",
              "      <td>Reddit</td>\n",
              "      <td>In real life (in person)</td>\n",
              "      <td>Username</td>\n",
              "      <td>2014</td>\n",
              "      <td>Daily or almost daily</td>\n",
              "      <td>Find answers to specific questions;Pass the ti...</td>\n",
              "      <td>1-2 times per week</td>\n",
              "      <td>Stack Overflow was much faster</td>\n",
              "      <td>31-60 minutes</td>\n",
              "      <td>Yes</td>\n",
              "      <td>Less than once per month or monthly</td>\n",
              "      <td>Yes</td>\n",
              "      <td>No, and I don't know what those are</td>\n",
              "      <td>No, not really</td>\n",
              "      <td>Just as welcome now as I felt last year</td>\n",
              "      <td>Tech articles written by other developers;Indu...</td>\n",
              "      <td>22.0</td>\n",
              "      <td>Man</td>\n",
              "      <td>No</td>\n",
              "      <td>Straight / Heterosexual</td>\n",
              "      <td>White or of European descent</td>\n",
              "      <td>No</td>\n",
              "      <td>Appropriate in length</td>\n",
              "      <td>Easy</td>\n",
              "    </tr>\n",
              "    <tr>\n",
              "      <th>4</th>\n",
              "      <td>5</td>\n",
              "      <td>I am a developer by profession</td>\n",
              "      <td>Yes</td>\n",
              "      <td>Once a month or more often</td>\n",
              "      <td>OSS is, on average, of HIGHER quality than pro...</td>\n",
              "      <td>Employed full-time</td>\n",
              "      <td>Ukraine</td>\n",
              "      <td>No</td>\n",
              "      <td>Bachelor’s degree (BA, BS, B.Eng., etc.)</td>\n",
              "      <td>Computer science, computer engineering, or sof...</td>\n",
              "      <td>Taken an online course in programming or softw...</td>\n",
              "      <td>10,000 or more employees</td>\n",
              "      <td>Academic researcher;Developer, desktop or ente...</td>\n",
              "      <td>16</td>\n",
              "      <td>14</td>\n",
              "      <td>9</td>\n",
              "      <td>Very dissatisfied</td>\n",
              "      <td>Slightly dissatisfied</td>\n",
              "      <td>Somewhat confident</td>\n",
              "      <td>Yes</td>\n",
              "      <td>No</td>\n",
              "      <td>I am not interested in new job opportunities</td>\n",
              "      <td>Less than a year ago</td>\n",
              "      <td>Write any code;Write code by hand (e.g., on a ...</td>\n",
              "      <td>No</td>\n",
              "      <td>Industry that I'd be working in;Languages, fra...</td>\n",
              "      <td>I was preparing for a job search</td>\n",
              "      <td>UAH</td>\n",
              "      <td>Ukrainian hryvnia</td>\n",
              "      <td>NaN</td>\n",
              "      <td>NaN</td>\n",
              "      <td>NaN</td>\n",
              "      <td>55.0</td>\n",
              "      <td>There is a schedule and/or spec (made by me or...</td>\n",
              "      <td>Being tasked with non-development work;Inadequ...</td>\n",
              "      <td>A few days each month</td>\n",
              "      <td>Office</td>\n",
              "      <td>A little above average</td>\n",
              "      <td>Yes, because I see value in code review</td>\n",
              "      <td>NaN</td>\n",
              "      <td>Yes, it's part of our process</td>\n",
              "      <td>Not sure</td>\n",
              "      <td>I have little or no influence</td>\n",
              "      <td>C++;HTML/CSS;Java;JavaScript;Python;SQL;VBA</td>\n",
              "      <td>HTML/CSS;Java;JavaScript;SQL;WebAssembly</td>\n",
              "      <td>Couchbase;MongoDB;MySQL;Oracle;PostgreSQL;SQLite</td>\n",
              "      <td>Couchbase;Firebase;MongoDB;MySQL;Oracle;Postgr...</td>\n",
              "      <td>Android;Linux;MacOS;Slack;Windows</td>\n",
              "      <td>Android;Docker;Kubernetes;Linux;Slack</td>\n",
              "      <td>Django;Express;Flask;jQuery;React.js;Spring</td>\n",
              "      <td>Flask;jQuery;React.js;Spring</td>\n",
              "      <td>Cordova;Node.js</td>\n",
              "      <td>Apache Spark;Hadoop;Node.js;React Native</td>\n",
              "      <td>IntelliJ;Notepad++;Vim</td>\n",
              "      <td>Linux-based</td>\n",
              "      <td>Outside of work, for personal projects</td>\n",
              "      <td>Not at all</td>\n",
              "      <td>NaN</td>\n",
              "      <td>Yes</td>\n",
              "      <td>Also Yes</td>\n",
              "      <td>Yes</td>\n",
              "      <td>Facebook</td>\n",
              "      <td>In real life (in person)</td>\n",
              "      <td>Username</td>\n",
              "      <td>I don't remember</td>\n",
              "      <td>Multiple times per day</td>\n",
              "      <td>Find answers to specific questions</td>\n",
              "      <td>More than 10 times per week</td>\n",
              "      <td>Stack Overflow was much faster</td>\n",
              "      <td>NaN</td>\n",
              "      <td>Yes</td>\n",
              "      <td>A few times per month or weekly</td>\n",
              "      <td>No, I knew that Stack Overflow had a job board...</td>\n",
              "      <td>No, I've heard of them, but I am not part of a...</td>\n",
              "      <td>Yes, definitely</td>\n",
              "      <td>Just as welcome now as I felt last year</td>\n",
              "      <td>Tech meetups or events in your area;Courses on...</td>\n",
              "      <td>30.0</td>\n",
              "      <td>Man</td>\n",
              "      <td>No</td>\n",
              "      <td>Straight / Heterosexual</td>\n",
              "      <td>White or of European descent;Multiracial</td>\n",
              "      <td>No</td>\n",
              "      <td>Appropriate in length</td>\n",
              "      <td>Easy</td>\n",
              "    </tr>\n",
              "  </tbody>\n",
              "</table>\n",
              "</div>\n",
              "      <button class=\"colab-df-convert\" onclick=\"convertToInteractive('df-feb8ec77-7376-4c0d-bfb4-444e6a1e9426')\"\n",
              "              title=\"Convert this dataframe to an interactive table.\"\n",
              "              style=\"display:none;\">\n",
              "        \n",
              "  <svg xmlns=\"http://www.w3.org/2000/svg\" height=\"24px\"viewBox=\"0 0 24 24\"\n",
              "       width=\"24px\">\n",
              "    <path d=\"M0 0h24v24H0V0z\" fill=\"none\"/>\n",
              "    <path d=\"M18.56 5.44l.94 2.06.94-2.06 2.06-.94-2.06-.94-.94-2.06-.94 2.06-2.06.94zm-11 1L8.5 8.5l.94-2.06 2.06-.94-2.06-.94L8.5 2.5l-.94 2.06-2.06.94zm10 10l.94 2.06.94-2.06 2.06-.94-2.06-.94-.94-2.06-.94 2.06-2.06.94z\"/><path d=\"M17.41 7.96l-1.37-1.37c-.4-.4-.92-.59-1.43-.59-.52 0-1.04.2-1.43.59L10.3 9.45l-7.72 7.72c-.78.78-.78 2.05 0 2.83L4 21.41c.39.39.9.59 1.41.59.51 0 1.02-.2 1.41-.59l7.78-7.78 2.81-2.81c.8-.78.8-2.07 0-2.86zM5.41 20L4 18.59l7.72-7.72 1.47 1.35L5.41 20z\"/>\n",
              "  </svg>\n",
              "      </button>\n",
              "      \n",
              "  <style>\n",
              "    .colab-df-container {\n",
              "      display:flex;\n",
              "      flex-wrap:wrap;\n",
              "      gap: 12px;\n",
              "    }\n",
              "\n",
              "    .colab-df-convert {\n",
              "      background-color: #E8F0FE;\n",
              "      border: none;\n",
              "      border-radius: 50%;\n",
              "      cursor: pointer;\n",
              "      display: none;\n",
              "      fill: #1967D2;\n",
              "      height: 32px;\n",
              "      padding: 0 0 0 0;\n",
              "      width: 32px;\n",
              "    }\n",
              "\n",
              "    .colab-df-convert:hover {\n",
              "      background-color: #E2EBFA;\n",
              "      box-shadow: 0px 1px 2px rgba(60, 64, 67, 0.3), 0px 1px 3px 1px rgba(60, 64, 67, 0.15);\n",
              "      fill: #174EA6;\n",
              "    }\n",
              "\n",
              "    [theme=dark] .colab-df-convert {\n",
              "      background-color: #3B4455;\n",
              "      fill: #D2E3FC;\n",
              "    }\n",
              "\n",
              "    [theme=dark] .colab-df-convert:hover {\n",
              "      background-color: #434B5C;\n",
              "      box-shadow: 0px 1px 3px 1px rgba(0, 0, 0, 0.15);\n",
              "      filter: drop-shadow(0px 1px 2px rgba(0, 0, 0, 0.3));\n",
              "      fill: #FFFFFF;\n",
              "    }\n",
              "  </style>\n",
              "\n",
              "      <script>\n",
              "        const buttonEl =\n",
              "          document.querySelector('#df-feb8ec77-7376-4c0d-bfb4-444e6a1e9426 button.colab-df-convert');\n",
              "        buttonEl.style.display =\n",
              "          google.colab.kernel.accessAllowed ? 'block' : 'none';\n",
              "\n",
              "        async function convertToInteractive(key) {\n",
              "          const element = document.querySelector('#df-feb8ec77-7376-4c0d-bfb4-444e6a1e9426');\n",
              "          const dataTable =\n",
              "            await google.colab.kernel.invokeFunction('convertToInteractive',\n",
              "                                                     [key], {});\n",
              "          if (!dataTable) return;\n",
              "\n",
              "          const docLinkHtml = 'Like what you see? Visit the ' +\n",
              "            '<a target=\"_blank\" href=https://colab.research.google.com/notebooks/data_table.ipynb>data table notebook</a>'\n",
              "            + ' to learn more about interactive tables.';\n",
              "          element.innerHTML = '';\n",
              "          dataTable['output_type'] = 'display_data';\n",
              "          await google.colab.output.renderOutput(dataTable, element);\n",
              "          const docLink = document.createElement('div');\n",
              "          docLink.innerHTML = docLinkHtml;\n",
              "          element.appendChild(docLink);\n",
              "        }\n",
              "      </script>\n",
              "    </div>\n",
              "  </div>\n",
              "  "
            ]
          },
          "metadata": {},
          "execution_count": 14
        }
      ],
      "source": [
        "data1.head()"
      ]
    },
    {
      "cell_type": "markdown",
      "source": [
        "# Exploratory Data Analysis"
      ],
      "metadata": {
        "id": "oo2fxVeN5v7O"
      }
    },
    {
      "cell_type": "markdown",
      "source": [
        "### **Q1. Find the average age of developers when they wrote their first line of code.**"
      ],
      "metadata": {
        "id": "hxs9zwWx5zGy"
      }
    },
    {
      "cell_type": "code",
      "execution_count": 15,
      "metadata": {
        "colab": {
          "base_uri": "https://localhost:8080/"
        },
        "id": "d_ZJANX_4Lu_",
        "outputId": "9abcf6bd-e643-4fd3-ec2b-fb2dffade6d5"
      },
      "outputs": [
        {
          "output_type": "execute_result",
          "data": {
            "text/plain": [
              "1249"
            ]
          },
          "metadata": {},
          "execution_count": 15
        }
      ],
      "source": [
        "data1['Age1stCode'].isnull().sum()"
      ]
    },
    {
      "cell_type": "code",
      "execution_count": 16,
      "metadata": {
        "colab": {
          "base_uri": "https://localhost:8080/",
          "height": 300
        },
        "id": "F9kXxBZX4Lu_",
        "outputId": "55774556-7edc-466d-c998-679195e490cb"
      },
      "outputs": [
        {
          "output_type": "execute_result",
          "data": {
            "text/plain": [
              "         Respondent     CompTotal  ConvertedComp   WorkWeekHrs    CodeRevHrs  \\\n",
              "count  88883.000000  5.594500e+04   5.582300e+04  64503.000000  49790.000000   \n",
              "mean   44442.000000  5.519014e+11   1.271107e+05     42.127197      5.084308   \n",
              "std    25658.456325  7.331926e+13   2.841523e+05     37.287610      5.513931   \n",
              "min        1.000000  0.000000e+00   0.000000e+00      1.000000      0.000000   \n",
              "25%    22221.500000  2.000000e+04   2.577750e+04     40.000000      2.000000   \n",
              "50%    44442.000000  6.200000e+04   5.728700e+04     40.000000      4.000000   \n",
              "75%    66662.500000  1.200000e+05   1.000000e+05     44.750000      6.000000   \n",
              "max    88883.000000  1.000000e+16   2.000000e+06   4850.000000     99.000000   \n",
              "\n",
              "                Age  \n",
              "count  79210.000000  \n",
              "mean      30.336699  \n",
              "std        9.178390  \n",
              "min        1.000000  \n",
              "25%       24.000000  \n",
              "50%       29.000000  \n",
              "75%       35.000000  \n",
              "max       99.000000  "
            ],
            "text/html": [
              "\n",
              "  <div id=\"df-38c697f4-d5e7-456b-ab26-131d14bad123\">\n",
              "    <div class=\"colab-df-container\">\n",
              "      <div>\n",
              "<style scoped>\n",
              "    .dataframe tbody tr th:only-of-type {\n",
              "        vertical-align: middle;\n",
              "    }\n",
              "\n",
              "    .dataframe tbody tr th {\n",
              "        vertical-align: top;\n",
              "    }\n",
              "\n",
              "    .dataframe thead th {\n",
              "        text-align: right;\n",
              "    }\n",
              "</style>\n",
              "<table border=\"1\" class=\"dataframe\">\n",
              "  <thead>\n",
              "    <tr style=\"text-align: right;\">\n",
              "      <th></th>\n",
              "      <th>Respondent</th>\n",
              "      <th>CompTotal</th>\n",
              "      <th>ConvertedComp</th>\n",
              "      <th>WorkWeekHrs</th>\n",
              "      <th>CodeRevHrs</th>\n",
              "      <th>Age</th>\n",
              "    </tr>\n",
              "  </thead>\n",
              "  <tbody>\n",
              "    <tr>\n",
              "      <th>count</th>\n",
              "      <td>88883.000000</td>\n",
              "      <td>5.594500e+04</td>\n",
              "      <td>5.582300e+04</td>\n",
              "      <td>64503.000000</td>\n",
              "      <td>49790.000000</td>\n",
              "      <td>79210.000000</td>\n",
              "    </tr>\n",
              "    <tr>\n",
              "      <th>mean</th>\n",
              "      <td>44442.000000</td>\n",
              "      <td>5.519014e+11</td>\n",
              "      <td>1.271107e+05</td>\n",
              "      <td>42.127197</td>\n",
              "      <td>5.084308</td>\n",
              "      <td>30.336699</td>\n",
              "    </tr>\n",
              "    <tr>\n",
              "      <th>std</th>\n",
              "      <td>25658.456325</td>\n",
              "      <td>7.331926e+13</td>\n",
              "      <td>2.841523e+05</td>\n",
              "      <td>37.287610</td>\n",
              "      <td>5.513931</td>\n",
              "      <td>9.178390</td>\n",
              "    </tr>\n",
              "    <tr>\n",
              "      <th>min</th>\n",
              "      <td>1.000000</td>\n",
              "      <td>0.000000e+00</td>\n",
              "      <td>0.000000e+00</td>\n",
              "      <td>1.000000</td>\n",
              "      <td>0.000000</td>\n",
              "      <td>1.000000</td>\n",
              "    </tr>\n",
              "    <tr>\n",
              "      <th>25%</th>\n",
              "      <td>22221.500000</td>\n",
              "      <td>2.000000e+04</td>\n",
              "      <td>2.577750e+04</td>\n",
              "      <td>40.000000</td>\n",
              "      <td>2.000000</td>\n",
              "      <td>24.000000</td>\n",
              "    </tr>\n",
              "    <tr>\n",
              "      <th>50%</th>\n",
              "      <td>44442.000000</td>\n",
              "      <td>6.200000e+04</td>\n",
              "      <td>5.728700e+04</td>\n",
              "      <td>40.000000</td>\n",
              "      <td>4.000000</td>\n",
              "      <td>29.000000</td>\n",
              "    </tr>\n",
              "    <tr>\n",
              "      <th>75%</th>\n",
              "      <td>66662.500000</td>\n",
              "      <td>1.200000e+05</td>\n",
              "      <td>1.000000e+05</td>\n",
              "      <td>44.750000</td>\n",
              "      <td>6.000000</td>\n",
              "      <td>35.000000</td>\n",
              "    </tr>\n",
              "    <tr>\n",
              "      <th>max</th>\n",
              "      <td>88883.000000</td>\n",
              "      <td>1.000000e+16</td>\n",
              "      <td>2.000000e+06</td>\n",
              "      <td>4850.000000</td>\n",
              "      <td>99.000000</td>\n",
              "      <td>99.000000</td>\n",
              "    </tr>\n",
              "  </tbody>\n",
              "</table>\n",
              "</div>\n",
              "      <button class=\"colab-df-convert\" onclick=\"convertToInteractive('df-38c697f4-d5e7-456b-ab26-131d14bad123')\"\n",
              "              title=\"Convert this dataframe to an interactive table.\"\n",
              "              style=\"display:none;\">\n",
              "        \n",
              "  <svg xmlns=\"http://www.w3.org/2000/svg\" height=\"24px\"viewBox=\"0 0 24 24\"\n",
              "       width=\"24px\">\n",
              "    <path d=\"M0 0h24v24H0V0z\" fill=\"none\"/>\n",
              "    <path d=\"M18.56 5.44l.94 2.06.94-2.06 2.06-.94-2.06-.94-.94-2.06-.94 2.06-2.06.94zm-11 1L8.5 8.5l.94-2.06 2.06-.94-2.06-.94L8.5 2.5l-.94 2.06-2.06.94zm10 10l.94 2.06.94-2.06 2.06-.94-2.06-.94-.94-2.06-.94 2.06-2.06.94z\"/><path d=\"M17.41 7.96l-1.37-1.37c-.4-.4-.92-.59-1.43-.59-.52 0-1.04.2-1.43.59L10.3 9.45l-7.72 7.72c-.78.78-.78 2.05 0 2.83L4 21.41c.39.39.9.59 1.41.59.51 0 1.02-.2 1.41-.59l7.78-7.78 2.81-2.81c.8-.78.8-2.07 0-2.86zM5.41 20L4 18.59l7.72-7.72 1.47 1.35L5.41 20z\"/>\n",
              "  </svg>\n",
              "      </button>\n",
              "      \n",
              "  <style>\n",
              "    .colab-df-container {\n",
              "      display:flex;\n",
              "      flex-wrap:wrap;\n",
              "      gap: 12px;\n",
              "    }\n",
              "\n",
              "    .colab-df-convert {\n",
              "      background-color: #E8F0FE;\n",
              "      border: none;\n",
              "      border-radius: 50%;\n",
              "      cursor: pointer;\n",
              "      display: none;\n",
              "      fill: #1967D2;\n",
              "      height: 32px;\n",
              "      padding: 0 0 0 0;\n",
              "      width: 32px;\n",
              "    }\n",
              "\n",
              "    .colab-df-convert:hover {\n",
              "      background-color: #E2EBFA;\n",
              "      box-shadow: 0px 1px 2px rgba(60, 64, 67, 0.3), 0px 1px 3px 1px rgba(60, 64, 67, 0.15);\n",
              "      fill: #174EA6;\n",
              "    }\n",
              "\n",
              "    [theme=dark] .colab-df-convert {\n",
              "      background-color: #3B4455;\n",
              "      fill: #D2E3FC;\n",
              "    }\n",
              "\n",
              "    [theme=dark] .colab-df-convert:hover {\n",
              "      background-color: #434B5C;\n",
              "      box-shadow: 0px 1px 3px 1px rgba(0, 0, 0, 0.15);\n",
              "      filter: drop-shadow(0px 1px 2px rgba(0, 0, 0, 0.3));\n",
              "      fill: #FFFFFF;\n",
              "    }\n",
              "  </style>\n",
              "\n",
              "      <script>\n",
              "        const buttonEl =\n",
              "          document.querySelector('#df-38c697f4-d5e7-456b-ab26-131d14bad123 button.colab-df-convert');\n",
              "        buttonEl.style.display =\n",
              "          google.colab.kernel.accessAllowed ? 'block' : 'none';\n",
              "\n",
              "        async function convertToInteractive(key) {\n",
              "          const element = document.querySelector('#df-38c697f4-d5e7-456b-ab26-131d14bad123');\n",
              "          const dataTable =\n",
              "            await google.colab.kernel.invokeFunction('convertToInteractive',\n",
              "                                                     [key], {});\n",
              "          if (!dataTable) return;\n",
              "\n",
              "          const docLinkHtml = 'Like what you see? Visit the ' +\n",
              "            '<a target=\"_blank\" href=https://colab.research.google.com/notebooks/data_table.ipynb>data table notebook</a>'\n",
              "            + ' to learn more about interactive tables.';\n",
              "          element.innerHTML = '';\n",
              "          dataTable['output_type'] = 'display_data';\n",
              "          await google.colab.output.renderOutput(dataTable, element);\n",
              "          const docLink = document.createElement('div');\n",
              "          docLink.innerHTML = docLinkHtml;\n",
              "          element.appendChild(docLink);\n",
              "        }\n",
              "      </script>\n",
              "    </div>\n",
              "  </div>\n",
              "  "
            ]
          },
          "metadata": {},
          "execution_count": 16
        }
      ],
      "source": [
        "data1.describe()"
      ]
    },
    {
      "cell_type": "code",
      "execution_count": 17,
      "metadata": {
        "id": "WIgUDY0A4Lu_"
      },
      "outputs": [],
      "source": [
        "pd.set_option('display.max_rows',None)"
      ]
    },
    {
      "cell_type": "code",
      "execution_count": 18,
      "metadata": {
        "colab": {
          "base_uri": "https://localhost:8080/"
        },
        "id": "_wW6fRYi4Lu_",
        "outputId": "6a96e74f-e229-45ec-bed3-b04274aac5e6"
      },
      "outputs": [
        {
          "output_type": "execute_result",
          "data": {
            "text/plain": [
              "array(['10', '17', '22', '16', '14', '15', '11', '20', '13', '18', '12',\n",
              "       '19', '21', '8', '35', '6', '9', '29', '7', '5', '23', '30', nan,\n",
              "       '27', '24', 'Younger than 5 years', '33', '25', '26', '39', '36',\n",
              "       '38', '28', '31', 'Older than 85', '32', '37', '50', '65', '42',\n",
              "       '34', '40', '67', '43', '44', '60', '46', '45', '49', '51', '41',\n",
              "       '55', '83', '48', '53', '54', '47', '56', '79', '61', '68', '77',\n",
              "       '66', '52', '80', '62', '84', '57', '58', '63'], dtype=object)"
            ]
          },
          "metadata": {},
          "execution_count": 18
        }
      ],
      "source": [
        "data1['Age1stCode'].unique()"
      ]
    },
    {
      "cell_type": "code",
      "execution_count": 24,
      "metadata": {
        "id": "Ok3MN54s4Lu_"
      },
      "outputs": [],
      "source": [
        "# Masking \"Older than 85\" as 86\n",
        "mask = data1['Age1stCode']=='Older than 85'\n",
        "data1.loc[mask,('Age1stCode')] = 86"
      ]
    },
    {
      "cell_type": "code",
      "execution_count": 25,
      "metadata": {
        "id": "Un4AhYoA4Lu_"
      },
      "outputs": [],
      "source": [
        "# Masking \"Younger than 5\" as 4\n",
        "mask = data1['Age1stCode']=='Younger than 5 years'\n",
        "data1.loc[mask,('Age1stCode')] = 4"
      ]
    },
    {
      "cell_type": "code",
      "execution_count": 26,
      "metadata": {
        "colab": {
          "base_uri": "https://localhost:8080/"
        },
        "id": "45RQSSOU4Lu_",
        "outputId": "f1ac3d6d-58e4-4e21-cfcc-4a373ae32b43"
      },
      "outputs": [
        {
          "output_type": "execute_result",
          "data": {
            "text/plain": [
              "1249"
            ]
          },
          "metadata": {},
          "execution_count": 26
        }
      ],
      "source": [
        "data1['Age1stCode'].isnull().sum()"
      ]
    },
    {
      "cell_type": "code",
      "execution_count": 27,
      "metadata": {
        "id": "SeYVaS8q4LvA"
      },
      "outputs": [],
      "source": [
        "data1['Age1stCode'] = data1['Age1stCode'].astype('float')"
      ]
    },
    {
      "cell_type": "code",
      "execution_count": 28,
      "metadata": {
        "colab": {
          "base_uri": "https://localhost:8080/",
          "height": 426
        },
        "id": "Z1C1F-MB4LvA",
        "outputId": "f2afbe7f-60c0-45ff-e222-eddafcc93482"
      },
      "outputs": [
        {
          "output_type": "execute_result",
          "data": {
            "text/plain": [
              "<Axes: xlabel='Age1stCode', ylabel='count'>"
            ]
          },
          "metadata": {},
          "execution_count": 28
        },
        {
          "output_type": "display_data",
          "data": {
            "text/plain": [
              "<Figure size 1600x500 with 1 Axes>"
            ],
            "image/png": "[encoded data removed]"
          },
          "metadata": {}
        }
      ],
      "source": [
        "plt.figure(figsize=(16,5))\n",
        "sns.countplot(x='Age1stCode',data = data1,order=data1['Age1stCode'].value_counts().iloc[:20].index)"
      ]
    },
    {
      "cell_type": "code",
      "execution_count": 29,
      "metadata": {
        "colab": {
          "base_uri": "https://localhost:8080/"
        },
        "id": "_ZMdch5_4LvA",
        "outputId": "2e56896b-f6b8-43bf-e828-81eaea5fa134"
      },
      "outputs": [
        {
          "output_type": "execute_result",
          "data": {
            "text/plain": [
              "15.409395896569825"
            ]
          },
          "metadata": {},
          "execution_count": 29
        }
      ],
      "source": [
        "np.mean(data1['Age1stCode'])"
      ]
    },
    {
      "cell_type": "markdown",
      "source": [
        "***The average age of the developers when they wrote their first line of code is 15 followed by 16, 14 and 18.***"
      ],
      "metadata": {
        "id": "diYGl6jJ6UkS"
      }
    },
    {
      "cell_type": "markdown",
      "source": [
        "### **Q2. Deduce the percentage of developers who know python in each country.**"
      ],
      "metadata": {
        "id": "DEjKpwoN6tzw"
      }
    },
    {
      "cell_type": "code",
      "source": [
        "data1['Country'].nunique()"
      ],
      "metadata": {
        "colab": {
          "base_uri": "https://localhost:8080/"
        },
        "id": "v3BVeACj60cS",
        "outputId": "9c48cfff-a376-4867-8f24-b22968f727f5"
      },
      "execution_count": 31,
      "outputs": [
        {
          "output_type": "execute_result",
          "data": {
            "text/plain": [
              "179"
            ]
          },
          "metadata": {},
          "execution_count": 31
        }
      ]
    },
    {
      "cell_type": "code",
      "execution_count": 41,
      "metadata": {
        "id": "HiWw3BH-4LvA"
      },
      "outputs": [],
      "source": [
        "languages = data1[data1['LanguageWorkedWith'].notnull()]\n",
        "languages"
      ]
    },
    {
      "cell_type": "code",
      "execution_count": 40,
      "metadata": {
        "colab": {
          "base_uri": "https://localhost:8080/"
        },
        "id": "mcCvC5Hn4LvA",
        "outputId": "aa284a4c-75f5-488f-9088-9b0d0f5071d4"
      },
      "outputs": [
        {
          "output_type": "execute_result",
          "data": {
            "text/plain": [
              "array(['United Kingdom', 'Bosnia and Herzegovina', 'Thailand',\n",
              "       'United States', 'Ukraine', 'Canada', 'India', 'New Zealand',\n",
              "       'Antigua and Barbuda', 'Germany', 'Australia',\n",
              "       'Russian Federation', 'Brazil', 'Lithuania', 'Israel',\n",
              "       'South Africa', 'Colombia', 'Turkey', 'Argentina', 'Sri Lanka',\n",
              "       'Czech Republic', 'Denmark', 'Malaysia', 'Bangladesh', 'Spain',\n",
              "       'Serbia', 'Poland', 'Sweden', 'China', 'France', 'Netherlands',\n",
              "       'Italy', 'Switzerland', 'Philippines', 'Ireland', 'Pakistan',\n",
              "       'Azerbaijan', 'Austria', 'Estonia', 'Croatia', 'South Korea',\n",
              "       'Greece', 'Japan', 'Romania', 'Finland', 'Bulgaria', 'Viet Nam',\n",
              "       'Slovenia', 'Iran', 'Belarus', 'Hungary', 'Latvia',\n",
              "       'Hong Kong (S.A.R.)', 'United Arab Emirates', 'Portugal',\n",
              "       'Nigeria', 'Norway', 'Nicaragua', 'Zimbabwe', 'Egypt',\n",
              "       'Dominican Republic', 'Guatemala', 'Chile', 'Mexico', 'Ecuador',\n",
              "       'Ghana', 'Uganda', 'Cambodia', 'Mauritius', 'Nepal', 'Singapore',\n",
              "       'Sierra Leone', 'Republic of Moldova', 'Belgium', 'Armenia',\n",
              "       'Bahrain', 'Mongolia', 'Georgia', 'Cyprus', 'Kenya', 'Luxembourg',\n",
              "       'Cape Verde', 'Peru', 'Burundi', 'Iraq', 'Slovakia', 'Algeria',\n",
              "       'Taiwan', 'Yemen', 'Indonesia', 'Morocco',\n",
              "       'Libyan Arab Jamahiriya', 'Belize', 'Mali', 'Trinidad and Tobago',\n",
              "       'Venezuela, Bolivarian Republic of...', 'Saudi Arabia', 'Panama',\n",
              "       'Lebanon', 'Tunisia', 'Kuwait', 'Andorra', \"Côte d'Ivoire\",\n",
              "       'Syrian Arab Republic', 'El Salvador', 'Cameroon', 'Malta',\n",
              "       'Turkmenistan', 'Brunei Darussalam',\n",
              "       'Other Country (Not Listed Above)', 'Costa Rica', 'Jordan',\n",
              "       'Albania', 'Uzbekistan', 'Sudan', 'Kazakhstan',\n",
              "       'The former Yugoslav Republic of Macedonia', 'Ethiopia',\n",
              "       'Paraguay', 'Myanmar', 'Somalia', 'Guyana', 'Honduras', 'Qatar',\n",
              "       'Jamaica', 'Fiji', 'Haiti', 'Democratic Republic of the Congo',\n",
              "       'Benin', 'Namibia', 'Montenegro', 'Rwanda', 'Uruguay',\n",
              "       'Mauritania', 'Bolivia', 'Gabon', 'Liechtenstein',\n",
              "       'United Republic of Tanzania', 'Kyrgyzstan',\n",
              "       \"Lao People's Democratic Republic\", 'Madagascar', 'Guinea',\n",
              "       'Afghanistan', 'Republic of Korea', 'Cuba', 'Maldives', 'Monaco',\n",
              "       'Tajikistan', 'North Korea', 'Senegal', 'Angola', 'Iceland',\n",
              "       'Togo', 'Swaziland', 'Congo, Republic of the...', 'Zambia', 'Oman',\n",
              "       'Timor-Leste', 'Tonga', 'Niger', 'Mozambique', 'Botswana',\n",
              "       'Dominica', 'Papua New Guinea', 'Barbados', 'Seychelles',\n",
              "       'Lesotho', \"Democratic People's Republic of Korea\", 'Bahamas',\n",
              "       'Burkina Faso', 'Saint Kitts and Nevis', 'Malawi', 'Bhutan',\n",
              "       'Saint Vincent and the Grenadines', 'San Marino',\n",
              "       'Sao Tome and Principe', 'Djibouti', 'Chad'], dtype=object)"
            ]
          },
          "metadata": {},
          "execution_count": 40
        }
      ],
      "source": [
        "countries = languages['Country'].unique()\n",
        "countries"
      ]
    },
    {
      "cell_type": "code",
      "execution_count": 42,
      "metadata": {
        "id": "fTyRb1jH4LvA"
      },
      "outputs": [],
      "source": [
        "country_python = {}"
      ]
    },
    {
      "cell_type": "code",
      "execution_count": 35,
      "metadata": {
        "id": "h3w75tT-4LvA"
      },
      "outputs": [],
      "source": [
        "# Total countries where is programming language for developres\n",
        "for country in countries:\n",
        "    for i in languages.groupby(['Country'])['LanguageWorkedWith'].value_counts()[country].index:\n",
        "        l= []\n",
        "        l.append(i.split(';'))\n",
        "    #     print(l)\n",
        "        for j in l:\n",
        "            if 'Python' in j:\n",
        "                if country not in country_python.keys():\n",
        "                    country_python[country] = 1\n",
        "                else:\n",
        "                    country_python[country] += 1\n",
        "                    "
      ]
    },
    {
      "cell_type": "code",
      "execution_count": 36,
      "metadata": {
        "id": "4U80AwCe4LvA"
      },
      "outputs": [],
      "source": [
        "def plot_dimension_count(unique_dim_dict, plot_title):\n",
        "    dim_count = pd.DataFrame.from_dict(unique_dim_dict, orient='index', dtype=None)\n",
        "    dim_count.columns = ['Count']\n",
        "    dim_count.sort_values('Count',ascending=False,inplace=True)\n",
        "    \n",
        "    dim_count[:10].plot(kind = 'pie', figsize = (12,12), fontsize = 10, title = plot_title,subplots=True,autopct='%1.1f%%');\n",
        "    print(dim_count[:10])"
      ]
    },
    {
      "cell_type": "code",
      "execution_count": 37,
      "metadata": {
        "colab": {
          "base_uri": "https://localhost:8080/",
          "height": 1000
        },
        "id": "yIx90q614LvB",
        "outputId": "621a8602-d8b9-47a9-d1f0-dca471e7ca01"
      },
      "outputs": [
        {
          "output_type": "stream",
          "name": "stdout",
          "text": [
            "                    Count\n",
            "United States        4504\n",
            "Germany              1494\n",
            "India                1391\n",
            "United Kingdom       1336\n",
            "Canada               1044\n",
            "France                748\n",
            "Australia             592\n",
            "Netherlands           559\n",
            "Brazil                549\n",
            "Russian Federation    504\n"
          ]
        },
        {
          "output_type": "display_data",
          "data": {
            "text/plain": [
              "<Figure size 1200x1200 with 1 Axes>"
            ],
            "image/png": "[encoded data removed]"
          },
          "metadata": {}
        }
      ],
      "source": [
        "plot_dimension_count(country_python,'The Most Popular Languages')"
      ]
    },
    {
      "cell_type": "markdown",
      "source": [
        "***The country where maximum number of Python developers are United States followed by Germany, India and United Kingdom.***"
      ],
      "metadata": {
        "id": "Rtu-2r6-9njg"
      }
    },
    {
      "cell_type": "markdown",
      "source": [
        "### **Q3. Generate a report for the average salary of developer based on continent.**"
      ],
      "metadata": {
        "id": "FMEel4WX-XJl"
      }
    },
    {
      "cell_type": "code",
      "execution_count": 44,
      "metadata": {
        "colab": {
          "base_uri": "https://localhost:8080/"
        },
        "id": "eXBSQ5oi4LvB",
        "outputId": "d1729290-1cca-41da-cde9-08f2f2214486"
      },
      "outputs": [
        {
          "output_type": "stream",
          "name": "stdout",
          "text": [
            "Looking in indexes: https://pypi.org/simple, https://us-python.pkg.dev/colab-wheels/public/simple/\n",
            "Collecting pycountry_convert\n",
            "  Downloading pycountry_convert-0.7.2-py3-none-any.whl (13 kB)\n",
            "Collecting repoze.lru>=0.7\n",
            "  Downloading repoze.lru-0.7-py3-none-any.whl (10 kB)\n",
            "Requirement already satisfied: pytest>=3.4.0 in /usr/local/lib/python3.9/dist-packages (from pycountry_convert) (7.2.2)\n",
            "Requirement already satisfied: pycountry>=16.11.27.1 in /usr/local/lib/python3.9/dist-packages (from pycountry_convert) (22.3.5)\n",
            "Collecting pprintpp>=0.3.0\n",
            "  Downloading pprintpp-0.4.0-py2.py3-none-any.whl (16 kB)\n",
            "Collecting pytest-cov>=2.5.1\n",
            "  Downloading pytest_cov-4.0.0-py3-none-any.whl (21 kB)\n",
            "Collecting pytest-mock>=1.6.3\n",
            "  Downloading pytest_mock-3.10.0-py3-none-any.whl (9.3 kB)\n",
            "Requirement already satisfied: wheel>=0.30.0 in /usr/local/lib/python3.9/dist-packages (from pycountry_convert) (0.40.0)\n",
            "Requirement already satisfied: setuptools in /usr/local/lib/python3.9/dist-packages (from pycountry>=16.11.27.1->pycountry_convert) (67.6.1)\n",
            "Requirement already satisfied: pluggy<2.0,>=0.12 in /usr/local/lib/python3.9/dist-packages (from pytest>=3.4.0->pycountry_convert) (1.0.0)\n",
            "Requirement already satisfied: attrs>=19.2.0 in /usr/local/lib/python3.9/dist-packages (from pytest>=3.4.0->pycountry_convert) (22.2.0)\n",
            "Requirement already satisfied: tomli>=1.0.0 in /usr/local/lib/python3.9/dist-packages (from pytest>=3.4.0->pycountry_convert) (2.0.1)\n",
            "Requirement already satisfied: exceptiongroup>=1.0.0rc8 in /usr/local/lib/python3.9/dist-packages (from pytest>=3.4.0->pycountry_convert) (1.1.1)\n",
            "Requirement already satisfied: packaging in /usr/local/lib/python3.9/dist-packages (from pytest>=3.4.0->pycountry_convert) (23.0)\n",
            "Requirement already satisfied: iniconfig in /usr/local/lib/python3.9/dist-packages (from pytest>=3.4.0->pycountry_convert) (2.0.0)\n",
            "Collecting coverage[toml]>=5.2.1\n",
            "  Downloading coverage-7.2.2-cp39-cp39-manylinux_2_5_x86_64.manylinux1_x86_64.manylinux_2_17_x86_64.manylinux2014_x86_64.whl (227 kB)\n",
            "\u001b[2K     \u001b[90m━━━━━━━━━━━━━━━━━━━━━━━━━━━━━━━━━━━━━━━\u001b[0m \u001b[32m227.0/227.0 KB\u001b[0m \u001b[31m7.6 MB/s\u001b[0m eta \u001b[36m0:00:00\u001b[0m\n",
            "\u001b[?25hInstalling collected packages: repoze.lru, pprintpp, coverage, pytest-mock, pytest-cov, pycountry_convert\n",
            "Successfully installed coverage-7.2.2 pprintpp-0.4.0 pycountry_convert-0.7.2 pytest-cov-4.0.0 pytest-mock-3.10.0 repoze.lru-0.7\n"
          ]
        }
      ],
      "source": [
        "!pip install pycountry_convert\n",
        "import pycountry_convert as pc"
      ]
    },
    {
      "cell_type": "code",
      "execution_count": 45,
      "metadata": {
        "id": "7yMJ4xSn4LvB"
      },
      "outputs": [],
      "source": [
        "# Getting the continent of each country present in a dataset\n",
        "\n",
        "def country_to_continent(country_name):\n",
        "    if country_name != 'Other Country (Not Listed Above)':\n",
        "#         print(country_name)\n",
        "        try:\n",
        "            country_alpha2 = pc.country_name_to_country_alpha2(country_name)\n",
        "        #         print(country_alpha2)\n",
        "\n",
        "            country_continent_code = pc.country_alpha2_to_continent_code(country_alpha2)\n",
        "#             print(country_continent_code)\n",
        "            country_continent_name = pc.convert_continent_code_to_continent_name(country_continent_code)\n",
        "            return country_continent_name\n",
        "        except:\n",
        "            return \"unknown\"\n",
        "    else:\n",
        "        return \"unknown\""
      ]
    },
    {
      "cell_type": "code",
      "execution_count": 46,
      "metadata": {
        "id": "zGiVlEzY4LvB"
      },
      "outputs": [],
      "source": [
        "# Correcting the Name of each country which is mistyped \n",
        "\n",
        "data1['Country'].replace({'Hong Kong (S.A.R.)':'Hong Kong'},inplace =True)\n",
        "data1['Country'].replace({'Libyan Arab Jamahiriya':'Libya'},inplace =True)\n",
        "data1['Country'].replace({'Venezuela, Bolivarian Republic of...':'Venezuela'},inplace =True)\n",
        "data1['Country'].replace({'The former Yugoslav Republic of Macedonia':'North Macedonia'},inplace =True)\n",
        "data1['Country'].replace({'Republic of Korea':'South Korea'},inplace =True)\n",
        "data1['Country'].replace({'Congo, Republic of the...':'Republic of the Congo'},inplace =True)\n",
        "data1['Country'].replace({'Timor-Leste':'East Timor'},inplace =True)"
      ]
    },
    {
      "cell_type": "code",
      "execution_count": 47,
      "metadata": {
        "id": "AU9C3GBJ4LvB"
      },
      "outputs": [],
      "source": [
        "names = [country_to_continent(i) for i in data1['Country']]\n",
        "data1['Contient'] = names"
      ]
    },
    {
      "cell_type": "code",
      "execution_count": 48,
      "metadata": {
        "id": "7tAZx8ew4LvB"
      },
      "outputs": [],
      "source": [
        "salary_notnull = data1[data1['ConvertedComp'].notnull()]"
      ]
    },
    {
      "cell_type": "code",
      "execution_count": 49,
      "metadata": {
        "id": "sQd9zttu4LvB"
      },
      "outputs": [],
      "source": [
        "a = salary_notnull.groupby(['Contient'])['ConvertedComp'].mean().sort_values(ascending=False)"
      ]
    },
    {
      "cell_type": "code",
      "execution_count": 50,
      "metadata": {
        "colab": {
          "base_uri": "https://localhost:8080/"
        },
        "id": "p5mQhCQU4LvB",
        "outputId": "cc82dfe8-16b2-454f-9e9a-23ed4be936be"
      },
      "outputs": [
        {
          "output_type": "execute_result",
          "data": {
            "text/plain": [
              "Index(['North America', 'Oceania', 'unknown', 'Europe', 'Asia', 'Africa',\n",
              "       'South America'],\n",
              "      dtype='object', name='Contient')"
            ]
          },
          "metadata": {},
          "execution_count": 50
        }
      ],
      "source": [
        "a.index"
      ]
    },
    {
      "cell_type": "code",
      "execution_count": 51,
      "metadata": {
        "colab": {
          "base_uri": "https://localhost:8080/",
          "height": 821
        },
        "id": "HvlmRjie4LvB",
        "outputId": "7fd5c722-511c-428f-9c1c-a36a9ae27ca9"
      },
      "outputs": [
        {
          "output_type": "execute_result",
          "data": {
            "text/plain": [
              "<Axes: title={'center': 'Salary countplot based on Continent'}, xlabel='Contient', ylabel='Salary'>"
            ]
          },
          "metadata": {},
          "execution_count": 51
        },
        {
          "output_type": "display_data",
          "data": {
            "text/plain": [
              "<Figure size 1600x900 with 1 Axes>"
            ],
            "image/png": "[encoded data removed]"
          },
          "metadata": {}
        }
      ],
      "source": [
        "plt.figure(figsize=(16,9))\n",
        "plt.title('Salary countplot based on Continent',fontsize=20, fontweight='bold', y=1.05,)\n",
        "plt.ylabel('Salary',fontsize=15)\n",
        "plt.xlabel('Continent',fontsize=15)\n",
        "a.plot(kind='bar')"
      ]
    },
    {
      "cell_type": "markdown",
      "source": [
        "***The developers with the highest salary are belonging to North America, Oceania and Europe.***"
      ],
      "metadata": {
        "id": "-eStMNk2_ChN"
      }
    },
    {
      "cell_type": "markdown",
      "source": [
        "### **Q4. Based on this survey, what will be the most desired programming language for the year 2020?**"
      ],
      "metadata": {
        "id": "QPK7BI86_bjH"
      }
    },
    {
      "cell_type": "code",
      "execution_count": 52,
      "metadata": {
        "id": "1DSeGS4D4LvC"
      },
      "outputs": [],
      "source": [
        "language_desired = data1[data1['LanguageDesireNextYear'].notnull()]"
      ]
    },
    {
      "cell_type": "code",
      "execution_count": 53,
      "metadata": {
        "id": "KlZSv-gW4LvC"
      },
      "outputs": [],
      "source": [
        "unique_lang={}"
      ]
    },
    {
      "cell_type": "code",
      "execution_count": 57,
      "metadata": {
        "id": "JLgEcHNN4LvC"
      },
      "outputs": [],
      "source": [
        "# Getting the list of total no. of unique languages\n",
        "\n",
        "for language_set in languages['LanguageDesireNextYear'].apply(lambda row: str(row).split(';')):\n",
        "    for language in language_set:\n",
        "        if language not in unique_lang.keys():\n",
        "            unique_lang[language] = 1\n",
        "        else:\n",
        "            unique_lang[language] += 1"
      ]
    },
    {
      "cell_type": "code",
      "execution_count": 58,
      "metadata": {
        "colab": {
          "base_uri": "https://localhost:8080/"
        },
        "id": "tTQAbCpY4LvC",
        "outputId": "0e853cc8-6b7c-4b89-90d7-feeb76b87f86"
      },
      "outputs": [
        {
          "output_type": "execute_result",
          "data": {
            "text/plain": [
              "{'C': 22016,\n",
              " 'C++': 33362,\n",
              " 'C#': 44600,\n",
              " 'Go': 33990,\n",
              " 'HTML/CSS': 72778,\n",
              " 'Java': 46518,\n",
              " 'JavaScript': 88856,\n",
              " 'Python': 79440,\n",
              " 'SQL': 66698,\n",
              " 'Elixir': 7516,\n",
              " 'WebAssembly': 16768,\n",
              " 'Scala': 11066,\n",
              " 'Bash/Shell/PowerShell': 42434,\n",
              " 'Erlang': 4190,\n",
              " 'Ruby': 14376,\n",
              " 'Rust': 20926,\n",
              " 'TypeScript': 47280,\n",
              " 'Other(s):': 15724,\n",
              " 'Kotlin': 26384,\n",
              " 'R': 13330,\n",
              " 'Assembly': 8992,\n",
              " 'Objective-C': 5608,\n",
              " 'PHP': 25376,\n",
              " 'Swift': 17486,\n",
              " 'VBA': 3182,\n",
              " 'Clojure': 5434,\n",
              " 'Dart': 8782,\n",
              " 'nan': 8218,\n",
              " 'F#': 6978}"
            ]
          },
          "metadata": {},
          "execution_count": 58
        }
      ],
      "source": [
        "unique_lang"
      ]
    },
    {
      "cell_type": "code",
      "execution_count": 62,
      "metadata": {
        "id": "s14d1MYR4LvC"
      },
      "outputs": [],
      "source": [
        "def plot_dimension_count(unique_dim_dict, plot_title):\n",
        "    dim_count = pd.DataFrame.from_dict(unique_dim_dict, orient='index', dtype=None)\n",
        "    dim_count.columns = ['Count']\n",
        "    dim_count.sort_values('Count',ascending=True,inplace=True)\n",
        "\n",
        "    dim_count.plot(kind = 'barh', figsize = (14,13), fontsize = 10, title = plot_title);"
      ]
    },
    {
      "cell_type": "code",
      "execution_count": 63,
      "metadata": {
        "colab": {
          "base_uri": "https://localhost:8080/",
          "height": 992
        },
        "id": "I0k7wPKm4LvC",
        "outputId": "d9786480-74ab-47c2-e144-7ada6ddcd9ac"
      },
      "outputs": [
        {
          "output_type": "display_data",
          "data": {
            "text/plain": [
              "<Figure size 1400x1300 with 1 Axes>"
            ],
            "image/png": "[encoded data removed]"
          },
          "metadata": {}
        }
      ],
      "source": [
        "plot_dimension_count(unique_lang,'The Most Popular Languages')"
      ]
    },
    {
      "cell_type": "markdown",
      "source": [
        "***According to this survey, the most desired language for the next year will be Javascript, followed by Python, HTML/CSS, and SQL.***"
      ],
      "metadata": {
        "id": "VAYOlnpx_48W"
      }
    },
    {
      "cell_type": "markdown",
      "source": [
        "### **Q5. What is the distribution of people who code as a hobby based on gender and continent (hint: use your mapping of country to continent)?**"
      ],
      "metadata": {
        "id": "fRaQGxm0AX89"
      }
    },
    {
      "cell_type": "code",
      "execution_count": 64,
      "metadata": {
        "colab": {
          "base_uri": "https://localhost:8080/"
        },
        "id": "e89RPFq54LvC",
        "outputId": "1447c249-512d-40cc-b897-629f9592bd08"
      },
      "outputs": [
        {
          "output_type": "execute_result",
          "data": {
            "text/plain": [
              "array(['Man', nan, 'Woman',\n",
              "       'Non-binary, genderqueer, or gender non-conforming',\n",
              "       'Woman;Non-binary, genderqueer, or gender non-conforming',\n",
              "       'Woman;Man;Non-binary, genderqueer, or gender non-conforming',\n",
              "       'Woman;Man',\n",
              "       'Man;Non-binary, genderqueer, or gender non-conforming'],\n",
              "      dtype=object)"
            ]
          },
          "metadata": {},
          "execution_count": 64
        }
      ],
      "source": [
        "data1['Gender'].unique()"
      ]
    },
    {
      "cell_type": "code",
      "execution_count": 65,
      "metadata": {
        "id": "2ZFQaZF-4LvC"
      },
      "outputs": [],
      "source": [
        "df = data1[data1['Hobbyist']=='Yes']"
      ]
    },
    {
      "cell_type": "code",
      "execution_count": 66,
      "metadata": {
        "id": "Kdudq2na4LvC"
      },
      "outputs": [],
      "source": [
        "data1['Hobbyist'] = data1['Hobbyist'].map({'Yes':1,'No':0})"
      ]
    },
    {
      "cell_type": "code",
      "execution_count": 68,
      "metadata": {
        "colab": {
          "base_uri": "https://localhost:8080/"
        },
        "id": "C90U0vr-4LvC",
        "outputId": "e66b940c-5669-400d-b770-6d1e2ebc1ab4"
      },
      "outputs": [
        {
          "output_type": "execute_result",
          "data": {
            "text/plain": [
              "Man                                                            77919\n",
              "Woman                                                           6344\n",
              "Non-binary, genderqueer, or gender non-conforming                597\n",
              "Man;Non-binary, genderqueer, or gender non-conforming            181\n",
              "Woman;Non-binary, genderqueer, or gender non-conforming          163\n",
              "Woman;Man                                                        132\n",
              "Woman;Man;Non-binary, genderqueer, or gender non-conforming       70\n",
              "Name: Gender, dtype: int64"
            ]
          },
          "metadata": {},
          "execution_count": 68
        }
      ],
      "source": [
        "# Total unique members belonging to category of gender\n",
        "data1['Gender'].value_counts()"
      ]
    },
    {
      "cell_type": "code",
      "execution_count": 69,
      "metadata": {
        "id": "criZFhHF4LvC"
      },
      "outputs": [],
      "source": [
        "# gender should have three categories man, woman and others. If a record has any other value, consider it as Others.\n",
        "l = []\n",
        "for i in data1['Gender']:\n",
        "    if i != 'Man' and i != 'Woman':\n",
        "        l.append('others')\n",
        "    else:\n",
        "        l.append(i)"
      ]
    },
    {
      "cell_type": "code",
      "execution_count": 70,
      "metadata": {
        "id": "vi7IQBv94LvC"
      },
      "outputs": [],
      "source": [
        "data1['Gender'] = l"
      ]
    },
    {
      "cell_type": "code",
      "execution_count": 71,
      "metadata": {
        "colab": {
          "base_uri": "https://localhost:8080/"
        },
        "id": "wzkUn6RM4LvD",
        "outputId": "277cb7e9-bd78-494f-a338-ced2461d8080"
      },
      "outputs": [
        {
          "output_type": "execute_result",
          "data": {
            "text/plain": [
              "Man       77919\n",
              "Woman      6344\n",
              "others     4620\n",
              "Name: Gender, dtype: int64"
            ]
          },
          "metadata": {},
          "execution_count": 71
        }
      ],
      "source": [
        "data1['Gender'].value_counts()"
      ]
    },
    {
      "cell_type": "code",
      "execution_count": 73,
      "metadata": {
        "colab": {
          "base_uri": "https://localhost:8080/",
          "height": 808
        },
        "id": "xZKR-BXx4LvD",
        "outputId": "9abcf8a2-b88f-4b0e-894e-6e161d090009"
      },
      "outputs": [
        {
          "output_type": "display_data",
          "data": {
            "text/plain": [
              "<Figure size 1500x900 with 1 Axes>"
            ],
            "image/png": "[encoded data removed]"
          },
          "metadata": {}
        }
      ],
      "source": [
        "# Barplot for Gender, Hobbyist and Continent\n",
        "\n",
        "plt.figure(figsize=(15, 9))\n",
        "sns.barplot(x = 'Gender', y='Hobbyist', hue='Contient', data= data1)\n",
        "plt.title('Distribution of people who code as a hobby based on Gender and Continent ')\n",
        "plt.grid()\n",
        "\n",
        "N=3\n",
        "ind=np.arange(N)\n",
        "s=(data1['Gender'].value_counts().index)\n",
        "plt.xticks(ind,s,rotation='vertical', fontsize=15)\n",
        "plt.show()\n",
        "\n",
        "\n",
        "plt.show()"
      ]
    },
    {
      "cell_type": "markdown",
      "source": [
        "***Maximum Men who are habitual coders belonging to Oceania, North America and Europe where as maximum female coders are belonging to Oceania, Europe and Africa.***"
      ],
      "metadata": {
        "id": "evY0fE1vBtBD"
      }
    },
    {
      "cell_type": "markdown",
      "source": [
        "### Q6. **Generate the report for job and career satisfaction of developer based on their gender and continent?**"
      ],
      "metadata": {
        "id": "5yLgpz98CRB2"
      }
    },
    {
      "cell_type": "code",
      "execution_count": 74,
      "metadata": {
        "colab": {
          "base_uri": "https://localhost:8080/"
        },
        "id": "8Z5-6egz4LvD",
        "outputId": "40d322d3-8e39-4746-db60-38a88432abfc"
      },
      "outputs": [
        {
          "output_type": "execute_result",
          "data": {
            "text/plain": [
              "Slightly satisfied                    24207\n",
              "Very satisfied                        22452\n",
              "Slightly dissatisfied                 10752\n",
              "Neither satisfied nor dissatisfied     8720\n",
              "Very dissatisfied                      4857\n",
              "Name: JobSat, dtype: int64"
            ]
          },
          "metadata": {},
          "execution_count": 74
        }
      ],
      "source": [
        "data1['JobSat'].value_counts()"
      ]
    },
    {
      "cell_type": "code",
      "execution_count": 75,
      "metadata": {
        "id": "bIGjvgIK4LvD"
      },
      "outputs": [],
      "source": [
        "data1['JobSat'] = data1['JobSat'].map({'Slightly satisfied':1,'Very satisfied':2,'Slightly dissatisfied':3,'Neither satisfied nor dissatisfied':4,'Very dissatisfied':5})"
      ]
    },
    {
      "cell_type": "code",
      "source": [
        "data1['JobSat'].value_counts()"
      ],
      "metadata": {
        "colab": {
          "base_uri": "https://localhost:8080/"
        },
        "id": "Kc3z4JfBCxsO",
        "outputId": "1771457a-535d-4a70-aafb-44e763d05204"
      },
      "execution_count": 80,
      "outputs": [
        {
          "output_type": "execute_result",
          "data": {
            "text/plain": [
              "1.0    24207\n",
              "2.0    22452\n",
              "3.0    10752\n",
              "4.0     8720\n",
              "5.0     4857\n",
              "Name: JobSat, dtype: int64"
            ]
          },
          "metadata": {},
          "execution_count": 80
        }
      ]
    },
    {
      "cell_type": "code",
      "execution_count": 81,
      "metadata": {
        "colab": {
          "base_uri": "https://localhost:8080/",
          "height": 816
        },
        "id": "HshWGfkG4LvD",
        "outputId": "db9d4fc2-af66-4194-bedc-6ea9301d6c8d"
      },
      "outputs": [
        {
          "output_type": "display_data",
          "data": {
            "text/plain": [
              "<Figure size 1500x900 with 1 Axes>"
            ],
            "image/png": "[encoded data removed]"
          },
          "metadata": {}
        }
      ],
      "source": [
        "plt.figure(figsize=(15, 9))\n",
        "sns.barplot(x = 'Gender', y='JobSat', hue='Contient', data= data1)\n",
        "plt.grid()\n",
        "plt.title('Distribution of job and career satisfaction of developer based on their gender and continent')\n",
        "\n",
        "N=3\n",
        "ind=np.arange(N)\n",
        "s=(data1['Gender'].value_counts().index)\n",
        "plt.xticks(ind,s,rotation='vertical', fontsize=15)\n",
        "plt.show()\n",
        "\n",
        "plt.show()"
      ]
    },
    {
      "cell_type": "markdown",
      "source": [
        "***The highly satisfied developers are belonging to Asia where as the developers who are dissatisfied are belonging to Africa and South America.***"
      ],
      "metadata": {
        "id": "mzSyk830DN2S"
      }
    },
    {
      "cell_type": "code",
      "execution_count": null,
      "metadata": {
        "id": "JT82_yL14LvD"
      },
      "outputs": [],
      "source": []
    }
  ],
  "metadata": {
    "kernelspec": {
      "display_name": "Python 3",
      "language": "python",
      "name": "python3"
    },
    "language_info": {
      "codemirror_mode": {
        "name": "ipython",
        "version": 3
      },
      "file_extension": ".py",
      "mimetype": "text/x-python",
      "name": "python",
      "nbconvert_exporter": "python",
      "pygments_lexer": "ipython3",
      "version": "3.7.4"
    },
    "colab": {
      "provenance": []
    }
  },
  "nbformat": 4,
  "nbformat_minor": 0
}